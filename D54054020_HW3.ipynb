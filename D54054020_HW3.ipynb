{
 "cells": [
  {
   "cell_type": "code",
   "execution_count": 1,
   "metadata": {},
   "outputs": [
    {
     "name": "stdout",
     "output_type": "stream",
     "text": [
      "1 * 1 = 1\t1 * 2 = 2\t1 * 3 = 3\t1 * 4 = 4\t1 * 5 = 5\t1 * 6 = 6\t1 * 7 = 7\t1 * 8 = 8\t1 * 9 = 9\t\n",
      "2 * 1 = 2\t2 * 2 = 4\t2 * 3 = 6\t2 * 4 = 8\t2 * 5 = 10\t2 * 6 = 12\t2 * 7 = 14\t2 * 8 = 16\t2 * 9 = 18\t\n",
      "3 * 1 = 3\t3 * 2 = 6\t3 * 3 = 9\t3 * 4 = 12\t3 * 5 = 15\t3 * 6 = 18\t3 * 7 = 21\t3 * 8 = 24\t3 * 9 = 27\t\n",
      "4 * 1 = 4\t4 * 2 = 8\t4 * 3 = 12\t4 * 4 = 16\t4 * 5 = 20\t4 * 6 = 24\t4 * 7 = 28\t4 * 8 = 32\t4 * 9 = 36\t\n",
      "5 * 1 = 5\t5 * 2 = 10\t5 * 3 = 15\t5 * 4 = 20\t5 * 5 = 25\t5 * 6 = 30\t5 * 7 = 35\t5 * 8 = 40\t5 * 9 = 45\t\n",
      "6 * 1 = 6\t6 * 2 = 12\t6 * 3 = 18\t6 * 4 = 24\t6 * 5 = 30\t6 * 6 = 36\t6 * 7 = 42\t6 * 8 = 48\t6 * 9 = 54\t\n",
      "7 * 1 = 7\t7 * 2 = 14\t7 * 3 = 21\t7 * 4 = 28\t7 * 5 = 35\t7 * 6 = 42\t7 * 7 = 49\t7 * 8 = 56\t7 * 9 = 63\t\n",
      "8 * 1 = 8\t8 * 2 = 16\t8 * 3 = 24\t8 * 4 = 32\t8 * 5 = 40\t8 * 6 = 48\t8 * 7 = 56\t8 * 8 = 64\t8 * 9 = 72\t\n",
      "9 * 1 = 9\t9 * 2 = 18\t9 * 3 = 27\t9 * 4 = 36\t9 * 5 = 45\t9 * 6 = 54\t9 * 7 = 63\t9 * 8 = 72\t9 * 9 = 81\t\n"
     ]
    }
   ],
   "source": [
    "\"第一題\"\n",
    "\n",
    "for i in range(1,10,1):\n",
    "    for u in range(1,10,1):\n",
    "        print(i,'*',u,'=',i*u,end='\\t')\n",
    "        if u==9:\n",
    "            print(end='\\n')"
   ]
  },
  {
   "cell_type": "code",
   "execution_count": 28,
   "metadata": {},
   "outputs": [
    {
     "name": "stdout",
     "output_type": "stream",
     "text": [
      "欲生成幾個變數：10\n",
      "before： [85, 65, 77, 36, 87, 14, 45, 11, 60, 37]\n",
      "after： [11, 14, 36, 37, 45, 60, 65, 77, 85, 87]\n"
     ]
    }
   ],
   "source": [
    "\"第二題\"\n",
    "\n",
    "import random\n",
    "a=eval(input('欲生成幾個變數：'))\n",
    "str=[random.randint(0,100) for _ in range(a)]\n",
    "print('before：',str)\n",
    "for i in range(a-2,0,-1):\n",
    "    for u in range(0,i+1,1):\n",
    "        if str[u]>str[u+1]:\n",
    "            p=str[u+1]\n",
    "            str[u+1]=str[u]\n",
    "            str[u]=p\n",
    "for i in range(1):\n",
    "    print('after：',str) "
   ]
  },
  {
   "cell_type": "code",
   "execution_count": 2,
   "metadata": {},
   "outputs": [
    {
     "name": "stdout",
     "output_type": "stream",
     "text": [
      "總共有 8 種字母\n",
      "字母出現次數最多為 3 次\n",
      "字母次數最多的為 o\n"
     ]
    }
   ],
   "source": [
    "\"第三題\"\n",
    "\n",
    "maxAlp=''\n",
    "maxMode=0\n",
    "pets=['cat','cook','porg']\n",
    "s=\"\".join(pets)\n",
    "dic={}\n",
    "\n",
    "for i in s:\n",
    "    if i in dic:\n",
    "        dic[i]=dic[i]+1\n",
    "    else:\n",
    "        dic[i]=1\n",
    "        \n",
    "for x in s:\n",
    "    mode=s.count(x)\n",
    "    if mode>maxMode:\n",
    "        maxMode=mode\n",
    "        maxAlp=x\n",
    "        \n",
    "print('總共有',len(dic),'種字母')\n",
    "print('字母出現次數最多為',maxMode,'次')\n",
    "print('字母次數最多的為',maxAlp)"
   ]
  },
  {
   "cell_type": "code",
   "execution_count": 3,
   "metadata": {},
   "outputs": [
    {
     "name": "stdout",
     "output_type": "stream",
     "text": [
      "欲找出？內所有質數：20\n",
      "[2, 3, 5, 7, 11, 13, 17, 19]\n"
     ]
    }
   ],
   "source": [
    " \"第四題\"\n",
    "\n",
    "a=eval(input('欲找出？內所有質數：'))\n",
    "b=[]\n",
    "while a<=0:\n",
    "    a=eval(input('請輸入大於0的數字：'))\n",
    "    break\n",
    "    \n",
    "for i in range(2,a):\n",
    "    for j in range(2,i):\n",
    "        if i%j==0:\n",
    "            break\n",
    "    else:        \n",
    "        b.append(i)\n",
    "print(b)"
   ]
  },
  {
   "cell_type": "code",
   "execution_count": null,
   "metadata": {},
   "outputs": [],
   "source": []
  }
 ],
 "metadata": {
  "kernelspec": {
   "display_name": "Python 3",
   "language": "python",
   "name": "python3"
  },
  "language_info": {
   "codemirror_mode": {
    "name": "ipython",
    "version": 3
   },
   "file_extension": ".py",
   "mimetype": "text/x-python",
   "name": "python",
   "nbconvert_exporter": "python",
   "pygments_lexer": "ipython3",
   "version": "3.7.3"
  }
 },
 "nbformat": 4,
 "nbformat_minor": 2
}
