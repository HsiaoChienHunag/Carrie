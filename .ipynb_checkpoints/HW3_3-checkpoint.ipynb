{
 "cells": [
  {
   "cell_type": "code",
   "execution_count": 4,
   "metadata": {
    "scrolled": true
   },
   "outputs": [
    {
     "data": {
      "application/vnd.jupyter.widget-view+json": {
       "model_id": "844fc8367c3840a4853d9c687d3fb5e3",
       "version_major": 2,
       "version_minor": 0
      },
      "text/plain": [
       "interactive(children=(Dropdown(description='x', options={'紅色': '31', '綠色': '32', '黃色': '33', '藍色': '34', '紫色':…"
      ]
     },
     "metadata": {},
     "output_type": "display_data"
    },
    {
     "data": {
      "text/plain": [
       "<function __main__.f(x)>"
      ]
     },
     "execution_count": 4,
     "metadata": {},
     "output_type": "execute_result"
    }
   ],
   "source": [
    "from ipywidgets import interact\n",
    "\n",
    "def getValue(x):\n",
    "    return x\n",
    "\n",
    "\n",
    "def f(x):\n",
    "    ham = getValue(x) \n",
    "    print(\"\\033[4;{};40mHello, World!\".format(ham))\n",
    "    \n",
    "interact(f,x={\"紅色\":\"31\",\"綠色\":\"32\",\"黃色\":\"33\",\"藍色\":\"34\",\"紫色\":\"35\",\"青色\":\"36\"})\n",
    "\n",
    "#print(\"\\033[顯示方式;前景色;背景色m文字內容\\033[0m\")"
   ]
  },
  {
   "cell_type": "markdown",
   "metadata": {},
   "source": [
    "### 字串格式化\n",
    "\n",
    "https://blog.techbridge.cc/2019/05/03/how-to-use-python-string-format-method/"
   ]
  },
  {
   "cell_type": "markdown",
   "metadata": {},
   "source": []
  },
  {
   "cell_type": "code",
   "execution_count": null,
   "metadata": {},
   "outputs": [],
   "source": []
  },
  {
   "cell_type": "code",
   "execution_count": null,
   "metadata": {},
   "outputs": [],
   "source": []
  }
 ],
 "metadata": {
  "kernelspec": {
   "display_name": "Python 3",
   "language": "python",
   "name": "python3"
  },
  "language_info": {
   "codemirror_mode": {
    "name": "ipython",
    "version": 3
   },
   "file_extension": ".py",
   "mimetype": "text/x-python",
   "name": "python",
   "nbconvert_exporter": "python",
   "pygments_lexer": "ipython3",
   "version": "3.7.3"
  }
 },
 "nbformat": 4,
 "nbformat_minor": 2
}
