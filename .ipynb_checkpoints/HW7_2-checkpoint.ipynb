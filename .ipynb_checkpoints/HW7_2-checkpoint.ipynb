{
 "cells": [
  {
   "cell_type": "code",
   "execution_count": 1,
   "metadata": {},
   "outputs": [],
   "source": [
    "%matplotlib inline\n",
    "\n",
    "import numpy as np\n",
    "import matplotlib.pyplot as plt\n",
    "import pandas as pd\n",
    "from collections import Counter"
   ]
  },
  {
   "cell_type": "code",
   "execution_count": 2,
   "metadata": {},
   "outputs": [],
   "source": [
    "grades = [56, 90, 50, 39, 88]"
   ]
  },
  {
   "cell_type": "code",
   "execution_count": 3,
   "metadata": {},
   "outputs": [
    {
     "name": "stdout",
     "output_type": "stream",
     "text": [
      "調整後成績: 84.83\n",
      "調整後成績: 100.00\n",
      "調整後成績: 80.71\n",
      "調整後成績: 72.45\n",
      "調整後成績: 100.00\n",
      "[2, 2, 2, 1, 2]\n"
     ]
    }
   ],
   "source": [
    "new_grades = []\n",
    "\n",
    "adj_count_g = []\n",
    "\n",
    "for g in grades:\n",
    "    new_g = np.sqrt(g)*10+10\n",
    "    if new_g > 100:\n",
    "        new_g = 100\n",
    "    else:\n",
    "        new_g = new_g\n",
    "    print(f\"調整後成績: {new_g:.2f}\")\n",
    "    new_grades.append(new_g)\n",
    "    \n",
    "for m in new_grades:\n",
    "    if m < 60:\n",
    "        m = 0\n",
    "    elif m >= 60 and m < 80:\n",
    "        m = 1\n",
    "    else:\n",
    "        m = 2\n",
    "    adj_count_g.append(m)\n",
    "print(adj_count_g)"
   ]
  },
  {
   "cell_type": "code",
   "execution_count": null,
   "metadata": {},
   "outputs": [],
   "source": []
  }
 ],
 "metadata": {
  "kernelspec": {
   "display_name": "Python 3",
   "language": "python",
   "name": "python3"
  },
  "language_info": {
   "codemirror_mode": {
    "name": "ipython",
    "version": 3
   },
   "file_extension": ".py",
   "mimetype": "text/x-python",
   "name": "python",
   "nbconvert_exporter": "python",
   "pygments_lexer": "ipython3",
   "version": "3.7.3"
  }
 },
 "nbformat": 4,
 "nbformat_minor": 2
}
