{
 "cells": [
  {
   "cell_type": "code",
   "execution_count": 1,
   "metadata": {},
   "outputs": [],
   "source": []
  },
  {
   "cell_type": "code",
   "execution_count": 7,
   "metadata": {},
   "outputs": [
    {
     "name": "stdout",
     "output_type": "stream",
     "text": [
      "請輸入一年計息次數:4\n",
      "請輸入名義利率:5\n",
      "有效年利率:5.09%\n"
     ]
    }
   ],
   "source": [
    "from ipywidgets import interact\n",
    "import math\n",
    "import numpy as np \n",
    "\n",
    "def getValue(a):\n",
    "    return a\n",
    "\n",
    "pay = input(\"請輸入一年計息次數:\")\n",
    "x = int(pay)\n",
    "interest = input(\"請輸入名義利率:\")\n",
    "y = float(interest)\n",
    "\n",
    "z = math.pow((1+(y/100)/x),x)\n",
    "b = round((z-1),4)*100\n",
    "\n",
    "print(\"有效年利率:\"+str(b)+\"%\")"
   ]
  },
  {
   "cell_type": "code",
   "execution_count": null,
   "metadata": {},
   "outputs": [],
   "source": []
  }
 ],
 "metadata": {
  "kernelspec": {
   "display_name": "Python 3",
   "language": "python",
   "name": "python3"
  }
 },
 "nbformat": 4,
 "nbformat_minor": 2
}
