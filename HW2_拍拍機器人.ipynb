{
 "cells": [
  {
   "cell_type": "code",
   "execution_count": 1,
   "metadata": {},
   "outputs": [],
   "source": [
    "%matplotlib inline\n",
    "import numpy as np\n",
    "import matplotlib.pyplot as plt\n",
    "import pandas as pd"
   ]
  },
  {
   "cell_type": "code",
   "execution_count": null,
   "metadata": {},
   "outputs": [
    {
     "name": "stdout",
     "output_type": "stream",
     "text": [
      ">>Amy said Goodnight to me so early last night. What did she mean?\n",
      "Goodnight(n.):You need to stop texting me so I can continue watching the video.\n",
      ">>If girls say:\"I'm busy\", are they really busy?\n",
      "I'm busy:(phr.)I do have time, just not for you.\n",
      ">>Amy said \"We should hang out soon.\" today. She sees my efforts! Am I right?\n",
      "We should hang out soon:(phr.)It can mean anytime between next week and 5 years.\n",
      ">>Amy always says\"Oh, ok.\". What do I do wrong?\n",
      "Oh, ok.:(phr.) I thought you and I were on the same page. I thought you understand me, but you don't.\n",
      ">>...\n",
      "In a relationship:Loving each other and solving problems together. Problems you wouldn't have if you were single.PAI PAI.\n"
     ]
    }
   ],
   "source": [
    "msg = \"A dictionary can clear up your confusion when you build a relationship.\"\n",
    "while(msg !=\"...\"):\n",
    "    msg=input(\">>\")\n",
    "    if\"Goodnight\"in msg:\n",
    "        print(\"Goodnight(n.):You need to stop texting me so I can continue watching the video.\")\n",
    "    elif \"I'm busy\" in msg:\n",
    "        print(\"I'm busy:(phr.)I do have time, just not for you.\")\n",
    "    elif \"We should hang out soon\" in msg:\n",
    "        print(\"We should hang out soon:(phr.)It can mean anytime between next week and 5 years.\")\n",
    "    elif \"Oh, ok.\" in msg:\n",
    "        print(\"Oh, ok.:(phr.) I thought you and I were on the same page. I thought you understand me, but you don't.\")\n",
    "    else:\n",
    "        print(\"In a relationship:Loving each other and solving problems together. Problems you wouldn't have if you were single.PAI PAI.\")"
   ]
  },
  {
   "cell_type": "code",
   "execution_count": null,
   "metadata": {},
   "outputs": [],
   "source": []
  }
 ],
 "metadata": {
  "kernelspec": {
   "display_name": "Python 3",
   "language": "python",
   "name": "python3"
  },
  "language_info": {
   "codemirror_mode": {
    "name": "ipython",
    "version": 3
   },
   "file_extension": ".py",
   "mimetype": "text/x-python",
   "name": "python",
   "nbconvert_exporter": "python",
   "pygments_lexer": "ipython3",
   "version": "3.7.3"
  }
 },
 "nbformat": 4,
 "nbformat_minor": 2
}
