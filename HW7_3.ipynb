{
 "cells": [
  {
   "cell_type": "code",
   "execution_count": 7,
   "metadata": {},
   "outputs": [
    {
     "name": "stdout",
     "output_type": "stream",
     "text": [
      "此次成績：35,99,67,12,78\n",
      "調整後成績: 69.16\n",
      "調整後成績: 100.00\n",
      "調整後成績: 91.85\n",
      "調整後成績: 44.64\n",
      "調整後成績: 98.32\n",
      "分數分佈：\n",
      "調整成績後，60分以下的有：1個\n",
      "調整成績後，成績介在60分以上，低於80分的有：1個\n",
      "調整成績後，成績高於80分的有：3個\n"
     ]
    }
   ],
   "source": [
    "%matplotlib inline\n",
    "\n",
    "import numpy as np\n",
    "import matplotlib.pyplot as plt\n",
    "import pandas as pd\n",
    "from collections import Counter\n",
    "\n",
    "s = input(\"此次成績：\")\n",
    "grades = list(map(float, s.split(\",\")))\n",
    "\n",
    "\n",
    "new_grades = []\n",
    "\n",
    "adj_count_g = []\n",
    "\n",
    "def single_list(arr, target):\n",
    "    return arr.count(target)\n",
    "\n",
    "for g in grades:\n",
    "    new_g = np.sqrt(g)*10+10\n",
    "    if new_g > 100:\n",
    "        new_g = 100\n",
    "    else:\n",
    "        new_g = new_g\n",
    "    print(f\"調整後成績: {new_g:.2f}\")\n",
    "    new_grades.append(new_g)\n",
    "    \n",
    "for m in new_grades:\n",
    "    if m < 60:\n",
    "        m = 0\n",
    "    elif m >= 60 and m < 80:\n",
    "        m = 1\n",
    "    else:\n",
    "        m = 2\n",
    "    adj_count_g.append(m)\n",
    "for k in range(3):\n",
    "    single_list(adj_count_g,k)\n",
    "    if k == 0:\n",
    "        print(\"分數分佈：\\n調整成績後，60分以下的有：\" + str(single_list(adj_count_g,k)) + \"個\")\n",
    "    elif k == 1:\n",
    "        print(\"調整成績後，成績介在60分以上，低於80分的有：\" + str(single_list(adj_count_g,k)) + \"個\")\n",
    "    else:\n",
    "        print(\"調整成績後，成績高於80分的有：\" + str(single_list(adj_count_g,k)) + \"個\")"
   ]
  },
  {
   "cell_type": "markdown",
   "metadata": {},
   "source": [
    "## 數出現次數1：https://blog.csdn.net/sinat_24091225/article/details/77925473\n",
    "## 數出現次數2：https://blog.csdn.net/sinat_24091225/article/details/77925473"
   ]
  },
  {
   "cell_type": "code",
   "execution_count": 13,
   "metadata": {},
   "outputs": [
    {
     "name": "stdout",
     "output_type": "stream",
     "text": [
      "[2, 2, 2, 1, 2]\n"
     ]
    }
   ],
   "source": [
    "print(adj_count_g)"
   ]
  },
  {
   "cell_type": "code",
   "execution_count": 17,
   "metadata": {},
   "outputs": [
    {
     "name": "stdout",
     "output_type": "stream",
     "text": [
      "4\n"
     ]
    }
   ],
   "source": []
  },
  {
   "cell_type": "code",
   "execution_count": null,
   "metadata": {},
   "outputs": [],
   "source": []
  }
 ],
 "metadata": {
  "kernelspec": {
   "display_name": "Python 3",
   "language": "python",
   "name": "python3"
  },
  "language_info": {
   "codemirror_mode": {
    "name": "ipython",
    "version": 3
   },
   "file_extension": ".py",
   "mimetype": "text/x-python",
   "name": "python",
   "nbconvert_exporter": "python",
   "pygments_lexer": "ipython3",
   "version": "3.7.3"
  }
 },
 "nbformat": 4,
 "nbformat_minor": 2
}
