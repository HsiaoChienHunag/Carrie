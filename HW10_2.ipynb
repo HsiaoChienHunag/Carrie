{
 "cells": [
  {
   "cell_type": "code",
   "execution_count": 3,
   "metadata": {},
   "outputs": [
    {
     "name": "stdout",
     "output_type": "stream",
     "text": [
      "before {'blacktea': 0}\n",
      "ERROR\n",
      "after {'blacktea': 1}\n",
      "before {'blacktea': 1, 'greentea': 0}\n",
      "ERROR\n",
      "after {'blacktea': 1, 'greentea': 1}\n",
      "before {'blacktea': 1, 'greentea': 1, 'milktea': 1}\n",
      "after {'blacktea': 1, 'greentea': 1, 'milktea': 1}\n",
      "before {'blacktea': 1, 'greentea': 1, 'milktea': 1, 'coffee': 2}\n",
      "after {'blacktea': 1, 'greentea': 1, 'milktea': 1, 'coffee': 2}\n",
      "before {'blacktea': 1, 'greentea': 1, 'milktea': 1, 'coffee': 2, 'coke': 0}\n",
      "ERROR\n",
      "after {'blacktea': 1, 'greentea': 1, 'milktea': 1, 'coffee': 2, 'coke': 1}\n"
     ]
    }
   ],
   "source": [
    "\"第一題\"\n",
    "import random\n",
    "kind=['blacktea','greentea','milktea','coffee','coke']\n",
    "dic={}\n",
    "for i in kind:\n",
    "    try:\n",
    "        a=random.randint(0,2)\n",
    "        dic[i]=a\n",
    "        print('before',dic)\n",
    "        raise ValueError\n",
    "    except ValueError:\n",
    "        if a==0:\n",
    "            print(('ERROR'))\n",
    "            dic[i]+=1\n",
    "            print('after',dic)\n",
    "        else:\n",
    "            print('after',dic)"
   ]
  },
  {
   "cell_type": "code",
   "execution_count": 3,
   "metadata": {},
   "outputs": [
    {
     "name": "stdout",
     "output_type": "stream",
     "text": [
      "請輸入a的值：我\n",
      "1.6666666666666667\n"
     ]
    },
    {
     "ename": "NameError",
     "evalue": "name '我' is not defined",
     "output_type": "error",
     "traceback": [
      "\u001b[0;31m---------------------------------------------------------------------------\u001b[0m",
      "\u001b[0;31mNameError\u001b[0m                                 Traceback (most recent call last)",
      "\u001b[0;32m<ipython-input-3-83ed9157d0f6>\u001b[0m in \u001b[0;36m<module>\u001b[0;34m\u001b[0m\n\u001b[1;32m      1\u001b[0m \u001b[0;34m\"第二題\"\u001b[0m\u001b[0;34m\u001b[0m\u001b[0;34m\u001b[0m\u001b[0m\n\u001b[1;32m      2\u001b[0m \u001b[0;32mtry\u001b[0m\u001b[0;34m:\u001b[0m\u001b[0;34m\u001b[0m\u001b[0;34m\u001b[0m\u001b[0m\n\u001b[0;32m----> 3\u001b[0;31m     \u001b[0ma\u001b[0m\u001b[0;34m=\u001b[0m\u001b[0meval\u001b[0m\u001b[0;34m(\u001b[0m\u001b[0minput\u001b[0m\u001b[0;34m(\u001b[0m\u001b[0;34m'請輸入a的值：'\u001b[0m\u001b[0;34m)\u001b[0m\u001b[0;34m)\u001b[0m\u001b[0;34m\u001b[0m\u001b[0;34m\u001b[0m\u001b[0m\n\u001b[0m\u001b[1;32m      4\u001b[0m     \u001b[0mb\u001b[0m\u001b[0;34m=\u001b[0m\u001b[0meval\u001b[0m\u001b[0;34m(\u001b[0m\u001b[0minput\u001b[0m\u001b[0;34m(\u001b[0m\u001b[0;34m'請輸入b的值：'\u001b[0m\u001b[0;34m)\u001b[0m\u001b[0;34m)\u001b[0m\u001b[0;34m\u001b[0m\u001b[0;34m\u001b[0m\u001b[0m\n\u001b[1;32m      5\u001b[0m     \u001b[0;32mraise\u001b[0m \u001b[0mValueError\u001b[0m\u001b[0;34m\u001b[0m\u001b[0;34m\u001b[0m\u001b[0m\n",
      "\u001b[0;32m<string>\u001b[0m in \u001b[0;36m<module>\u001b[0;34m\u001b[0m\n",
      "\u001b[0;31mNameError\u001b[0m: name '我' is not defined"
     ]
    }
   ],
   "source": [
    "\"第二題\"\n",
    "try:\n",
    "    a=eval(input('請輸入a的值：'))\n",
    "    b=eval(input('請輸入b的值：'))\n",
    "    raise ValueError\n",
    "except ValueError:\n",
    "    if b==1:\n",
    "        print('divisor cannot be one！')\n",
    "        b=eval(input('請再輸入一次b：'))\n",
    "finally:\n",
    "    print(a/b)"
   ]
  },
  {
   "cell_type": "code",
   "execution_count": 3,
   "metadata": {},
   "outputs": [
    {
     "data": {
      "text/plain": [
       "(array([6., 3., 3., 3., 1., 1., 2., 1., 4., 6.]),\n",
       " array([ 79. , 169.5, 260. , 350.5, 441. , 531.5, 622. , 712.5, 803. ,\n",
       "        893.5, 984. ]),\n",
       " <a list of 10 Patch objects>)"
      ]
     },
     "execution_count": 3,
     "metadata": {},
     "output_type": "execute_result"
    },
    {
     "data": {
      "image/png": "[encoded data removed]",
      "text/plain": [
       "<Figure size 432x288 with 1 Axes>"
      ]
     },
     "metadata": {
      "needs_background": "light"
     },
     "output_type": "display_data"
    }
   ],
   "source": [
    "\"第三題\"\n",
    "%matplotlib inline\n",
    "import matplotlib.pyplot as plt \n",
    "import numpy as np \n",
    "import random\n",
    "a=np.array([random.randint(0,999)for _ in range(30)])\n",
    "plt.hist(a,color='red')   "
   ]
  },
  {
   "cell_type": "code",
   "execution_count": 2,
   "metadata": {},
   "outputs": [
    {
     "data": {
      "image/png": "[encoded data removed]",
      "text/plain": [
       "<Figure size 432x288 with 1 Axes>"
      ]
     },
     "metadata": {
      "needs_background": "light"
     },
     "output_type": "display_data"
    }
   ],
   "source": [
    "\"第四題\"\n",
    "%matplotlib inline\n",
    "import matplotlib.pyplot as plt \n",
    "import matplotlib.dates as mdate\n",
    "import pandas as pd\n",
    "\n",
    "df=pd.read_csv(\"/Users/Cyh/Desktop/drinks1.csv\", names=[\"a\",\"b\",\"c\",\"d\",\"e\",\"f\" ])\n",
    "df[\"date\"]= df[\"a\"].map(str)+\" / \"+df[\"b\"].map(str)\n",
    "plt.plot(df[\"date\"],df[\"c\"],label=\"soda\")\n",
    "plt.plot(df[\"date\"],df[\"d\"],label=\"water\")\n",
    "plt.plot(df[\"date\"],df[\"e\"],label=\"coffee\")\n",
    "plt.plot(df[\"date\"],df[\"f\"],label=\"tea\")\n",
    "plt.xlabel('Year / Month')\n",
    "plt.ylabel('Price')\n",
    "plt.xticks(rotation=60)\n",
    "plt.legend()\n",
    "plt.show()"
   ]
  },
  {
   "cell_type": "code",
   "execution_count": null,
   "metadata": {},
   "outputs": [],
   "source": []
  }
 ],
 "metadata": {
  "kernelspec": {
   "display_name": "Python 3",
   "language": "python",
   "name": "python3"
  },
  "language_info": {
   "codemirror_mode": {
    "name": "ipython",
    "version": 3
   },
   "file_extension": ".py",
   "mimetype": "text/x-python",
   "name": "python",
   "nbconvert_exporter": "python",
   "pygments_lexer": "ipython3",
   "version": "3.7.3"
  }
 },
 "nbformat": 4,
 "nbformat_minor": 2
}
