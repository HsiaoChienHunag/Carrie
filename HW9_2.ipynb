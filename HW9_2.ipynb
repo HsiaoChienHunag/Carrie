{
 "cells": [
  {
   "cell_type": "code",
   "execution_count": 20,
   "metadata": {},
   "outputs": [],
   "source": [
    "%matplotlib inline\n",
    "\n",
    "import sys\n",
    "import webbrowser\n",
    "import numpy as np\n",
    "import matplotlib.pyplot as plt\n",
    "import pandas as pd\n",
    "import sympy as sp\n",
    "\n",
    "url = \"https://www.moeasmea.gov.tw/files/560/E4D52ACC-8741-4EB1-9CB5-54838D6F39B7\""
   ]
  },
  {
   "cell_type": "code",
   "execution_count": 21,
   "metadata": {},
   "outputs": [],
   "source": [
    "df = pd.read_csv(\"https://www.moeasmea.gov.tw/files/4532/93778292-8EFF-45B7-B891-710EAD16351F\")"
   ]
  },
  {
   "cell_type": "code",
   "execution_count": 22,
   "metadata": {},
   "outputs": [
    {
     "data": {
      "text/html": [
       "<div>\n",
       "<style scoped>\n",
       "    .dataframe tbody tr th:only-of-type {\n",
       "        vertical-align: middle;\n",
       "    }\n",
       "\n",
       "    .dataframe tbody tr th {\n",
       "        vertical-align: top;\n",
       "    }\n",
       "\n",
       "    .dataframe thead th {\n",
       "        text-align: right;\n",
       "    }\n",
       "</style>\n",
       "<table border=\"1\" class=\"dataframe\">\n",
       "  <thead>\n",
       "    <tr style=\"text-align: right;\">\n",
       "      <th></th>\n",
       "      <th>年度</th>\n",
       "      <th>檔案名稱</th>\n",
       "      <th>下載連結</th>\n",
       "    </tr>\n",
       "  </thead>\n",
       "  <tbody>\n",
       "    <tr>\n",
       "      <th>0</th>\n",
       "      <td>107</td>\n",
       "      <td>107年度中小企業統計.zip</td>\n",
       "      <td>https://www.moeasmea.gov.tw/files/560/E4D52ACC...</td>\n",
       "    </tr>\n",
       "    <tr>\n",
       "      <th>1</th>\n",
       "      <td>106</td>\n",
       "      <td>106年度中小企業統計.zip</td>\n",
       "      <td>https://www.moeasmea.gov.tw/files/560/3A0808C3...</td>\n",
       "    </tr>\n",
       "    <tr>\n",
       "      <th>2</th>\n",
       "      <td>105</td>\n",
       "      <td>105年度中小企業統計.zip</td>\n",
       "      <td>https://www.moeasmea.gov.tw/files/560/C94B51E5...</td>\n",
       "    </tr>\n",
       "    <tr>\n",
       "      <th>3</th>\n",
       "      <td>104</td>\n",
       "      <td>104年度中小企業統計.zip</td>\n",
       "      <td>https://www.moeasmea.gov.tw/files/560/6B74E1AF...</td>\n",
       "    </tr>\n",
       "    <tr>\n",
       "      <th>4</th>\n",
       "      <td>103</td>\n",
       "      <td>103年度中小企業統計.zip</td>\n",
       "      <td>https://www.moeasmea.gov.tw/files/560/4724E0E4...</td>\n",
       "    </tr>\n",
       "  </tbody>\n",
       "</table>\n",
       "</div>"
      ],
      "text/plain": [
       "    年度             檔案名稱                                               下載連結\n",
       "0  107  107年度中小企業統計.zip  https://www.moeasmea.gov.tw/files/560/E4D52ACC...\n",
       "1  106  106年度中小企業統計.zip  https://www.moeasmea.gov.tw/files/560/3A0808C3...\n",
       "2  105  105年度中小企業統計.zip  https://www.moeasmea.gov.tw/files/560/C94B51E5...\n",
       "3  104  104年度中小企業統計.zip  https://www.moeasmea.gov.tw/files/560/6B74E1AF...\n",
       "4  103  103年度中小企業統計.zip  https://www.moeasmea.gov.tw/files/560/4724E0E4..."
      ]
     },
     "execution_count": 22,
     "metadata": {},
     "output_type": "execute_result"
    }
   ],
   "source": [
    "df.head()"
   ]
  },
  {
   "cell_type": "code",
   "execution_count": 24,
   "metadata": {},
   "outputs": [
    {
     "name": "stdout",
     "output_type": "stream",
     "text": [
      "你想要查詢哪個年度的資料：107\n"
     ]
    }
   ],
   "source": [
    "search = input(\"你想要查詢哪個年度的資料：\")\n",
    "search_int = int(search)\n",
    "if search_int == 107:\n",
    "    webbrowser.open(url)\n",
    "else:\n",
    "    print(\"no data\")"
   ]
  },
  {
   "cell_type": "code",
   "execution_count": null,
   "metadata": {},
   "outputs": [],
   "source": [
    "#想要用多個url不知道該怎麼做"
   ]
  },
  {
   "cell_type": "code",
   "execution_count": null,
   "metadata": {},
   "outputs": [],
   "source": []
  }
 ],
 "metadata": {
  "kernelspec": {
   "display_name": "Python 3",
   "language": "python",
   "name": "python3"
  },
  "language_info": {
   "codemirror_mode": {
    "name": "ipython",
    "version": 3
   },
   "file_extension": ".py",
   "mimetype": "text/x-python",
   "name": "python",
   "nbconvert_exporter": "python",
   "pygments_lexer": "ipython3",
   "version": "3.7.3"
  }
 },
 "nbformat": 4,
 "nbformat_minor": 2
}
