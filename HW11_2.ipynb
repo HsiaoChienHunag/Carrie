{
 "cells": [
  {
   "cell_type": "code",
   "execution_count": 9,
   "metadata": {},
   "outputs": [
    {
     "name": "stdout",
     "output_type": "stream",
     "text": [
      "輸入成績：90\n",
      "a\n"
     ]
    }
   ],
   "source": [
    "'''第一大題'''\n",
    "#猜測此程式應該是讓使用者自行輸入成績，來做等第區別，因此第一行應改為\n",
    "score=eval(input('輸入成績：'))\n",
    "#而以下區間應照大到小排列，否則若照原題輸入90，會在>=70就被分類為c，不會得出a，改正後為\n",
    "if score>=90:\n",
    "    print('a')\n",
    "elif score>=80:\n",
    "    print('b')\n",
    "elif score>=70:\n",
    "    print('c')\n",
    "elif score<70:\n",
    "    print('d')"
   ]
  },
  {
   "cell_type": "code",
   "execution_count": 11,
   "metadata": {},
   "outputs": [
    {
     "name": "stdout",
     "output_type": "stream",
     "text": [
      "輸入西元年：2300\n",
      "平年\n"
     ]
    }
   ],
   "source": [
    "'''第二大題'''\n",
    "#閏年定義：(1)西元年份除以4可整除，且除以100不可整除，為閏年 (2)西元年份除以400可整除，為閏年\n",
    "year=eval(input('輸入西元年：'))\n",
    "#之後再依據以上定義，將除數由大到小排列，並用 if、else的語法，分類出平閏年\n",
    "if year%400==0:\n",
    "    print('閏年')\n",
    "elif year%100==0:\n",
    "    print('平年')\n",
    "elif year%4==0:\n",
    "    print('閏年')\n",
    "else:\n",
    "    print('平年')"
   ]
  },
  {
   "cell_type": "code",
   "execution_count": 12,
   "metadata": {},
   "outputs": [
    {
     "name": "stdout",
     "output_type": "stream",
     "text": [
      "(1) x1= 1.0 / x2= -0.75\n",
      "(2) x1= -1.0 / x2= -2.0\n",
      "(3) x1= 2.25 / x2= -2.0\n",
      "(4) x1= 0.4 / x2= -0.3333333333333333\n",
      "(5) x1= -0.4 / x2= -1.0\n"
     ]
    }
   ],
   "source": [
    "'''第三大題'''\n",
    "#設通式為ax^2+bx+c=0，且x=[-b±(b^2-4ac)^1/2]/2a\n",
    "\n",
    "'''(1)'''\n",
    "a=4\n",
    "b=-1\n",
    "c=-3\n",
    "x1=(-b+(b**2-4*a*c)**0.5)/(2*a)\n",
    "x2=(-b-(b**2-4*a*c)**0.5)/(2*a)\n",
    "print('(1)','x1=',x1,'/','x2=',x2)\n",
    "\n",
    "'''(2)'''\n",
    "a=1\n",
    "b=3\n",
    "c=2\n",
    "x1=(-b+(b**2-4*a*c)**0.5)/(2*a)\n",
    "x2=(-b-(b**2-4*a*c)**0.5)/(2*a)\n",
    "print('(2)','x1=',x1,'/','x2=',x2)\n",
    "\n",
    "'''(3)'''\n",
    "a=4\n",
    "b=-1\n",
    "c=-18\n",
    "x1=(-b+(b**2-4*a*c)**0.5)/(2*a)\n",
    "x2=(-b-(b**2-4*a*c)**0.5)/(2*a)\n",
    "print('(3)','x1=',x1,'/','x2=',x2)\n",
    "\n",
    "'''(4)'''\n",
    "a=15\n",
    "b=-1\n",
    "c=-2\n",
    "x1=(-b+(b**2-4*a*c)**0.5)/(2*a)\n",
    "x2=(-b-(b**2-4*a*c)**0.5)/(2*a)\n",
    "print('(4)','x1=',x1,'/','x2=',x2)\n",
    "\n",
    "'''(5)'''\n",
    "a=5\n",
    "b=7\n",
    "c=2\n",
    "x1=(-b+(b**2-4*a*c)**0.5)/(2*a)\n",
    "x2=(-b-(b**2-4*a*c)**0.5)/(2*a)\n",
    "print('(5)','x1=',x1,'/','x2=',x2)"
   ]
  },
  {
   "cell_type": "code",
   "execution_count": 13,
   "metadata": {},
   "outputs": [
    {
     "name": "stdout",
     "output_type": "stream",
     "text": [
      "(1) True     17大於1為正確\n",
      "(2) False    19>30為錯誤\n",
      "(3) False    ==的語法意義為'等於'，69不等於96，為錯誤\n",
      "(4) False    !=的語法意義為'不等於'，87等於87，為錯誤\n",
      "(5) True    and需兩者皆為真才成立，2<5與3>1皆正確，故為真\n",
      "(6) False    and需兩者皆為真才成立，2<1是錯的，故為錯誤\n",
      "(7) True    or只需其一為真便可成立，3>1正確，故為真\n",
      "(8) True    or只需其一為真便可成立，-1<1正確，故為真\n",
      "(9) False   or只需其一為真便可成立，200>1正確，故為真，但多了一個not，即為 not True，為False\n",
      "(10) False   and需兩者皆為真才成立，10<96、200>1皆正確，故為真；or只需其一為真便成立，or左邊為正確，故為真，但多了not，即為 not True，為False\n"
     ]
    }
   ],
   "source": [
    "'''第四大題'''\n",
    "\n",
    "'''(1)'''\n",
    "print('(1)',17>1,'   ','17大於1為正確')\n",
    "\n",
    "'''(2)'''\n",
    "print('(2)',19>30,'  ','19>30為錯誤')\n",
    "\n",
    "'''(3)'''\n",
    "print('(3)',69==96,'  ',\"==的語法意義為'等於'，69不等於96，為錯誤\")\n",
    "\n",
    "'''(4)'''\n",
    "print('(4)',87!=87,'  ',\"!=的語法意義為'不等於'，87等於87，為錯誤\")\n",
    "\n",
    "'''(5)'''\n",
    "print('(5)',(2<5)and(3>1),'  ',\"and需兩者皆為真才成立，2<5與3>1皆正確，故為真\")\n",
    "\n",
    "'''(6)'''\n",
    "print('(6)',(2<1)and(3>1),'  ',\"and需兩者皆為真才成立，2<1是錯的，故為錯誤\")\n",
    "\n",
    "'''(7)'''\n",
    "print('(7)',(2<1)or(3>1),'  ',\"or只需其一為真便可成立，3>1正確，故為真\")\n",
    "\n",
    "'''(8)'''\n",
    "print('(8)',(2<1)or(-1<1),'  ',\"or只需其一為真便可成立，-1<1正確，故為真\")\n",
    "\n",
    "'''(9)'''\n",
    "print('(9)',not((100<96)or(200>1)),' ',\"or只需其一為真便可成立，200>1正確，故為真，但多了一個not，即為 not True，為False\")\n",
    "\n",
    "'''(10)'''\n",
    "print('(10)',not(((10<96)and(200>1))or(5000<2000)),' ',\"and需兩者皆為真才成立，10<96、200>1皆正確，故為真；or只需其一為真便成立，or左邊為正確，故為真，但多了not，即為 not True，為False\")"
   ]
  },
  {
   "cell_type": "code",
   "execution_count": 16,
   "metadata": {},
   "outputs": [
    {
     "name": "stdout",
     "output_type": "stream",
     "text": [
      "數字1=4\n",
      "數字2=6\n",
      "數字3=4\n",
      "0\n"
     ]
    }
   ],
   "source": [
    "'''第五大題'''\n",
    "n1=eval(input('數字1='))\n",
    "n2=eval(input('數字2='))\n",
    "n3=eval(input('數字3='))\n",
    "if n3==1:\n",
    "    print(n1+n2)\n",
    "if n3==2:\n",
    "    print(n1-n2)\n",
    "if n3==3:\n",
    "    print(n1*n2)\n",
    "if n3==4:\n",
    "    print(n1//n2)\n",
    "if n3==5:\n",
    "    print(n1/n2)\n",
    "if n3==6:\n",
    "    print(n1%n2)\n",
    "if n3==7:\n",
    "    print(n1**n2)"
   ]
  },
  {
   "cell_type": "code",
   "execution_count": 1,
   "metadata": {},
   "outputs": [
    {
     "name": "stdout",
     "output_type": "stream",
     "text": [
      "x1=5\n",
      "y1=0\n",
      "x2=0\n",
      "y2=5\n",
      "x3=0\n",
      "y3=0\n",
      "直角三角形\n"
     ]
    }
   ],
   "source": [
    "'''第六大題'''\n",
    "#直角三角形定義：a^2+b^2=c^2\n",
    "#鈍角三角形定義：有兩邊的平方和小於第三邊長的平方\n",
    "#銳角三角形定義：任兩邊平方和大於第三邊長的平方\n",
    "\n",
    "#先輸入三個座標\n",
    "x1=eval(input('x1='))\n",
    "y1=eval(input('y1='))\n",
    "x2=eval(input('x2='))\n",
    "y2=eval(input('y2='))\n",
    "x3=eval(input('x3='))\n",
    "y3=eval(input('y3='))\n",
    "\n",
    "#算出三邊長\n",
    "a=(x2-x1)**2+(y2-y1)**2\n",
    "b=(x2-x3)**2+(y2-y3)**2\n",
    "c=(x3-x1)**2+(y3-y1)**2\n",
    "\n",
    "#算出三邊長之向量\n",
    "VXab=x2-x1\n",
    "VYab=y2-y1\n",
    "VXbc=x3-x2\n",
    "VYbc=y3-y2\n",
    "VXac=x3-x1\n",
    "VYac=y3-y1\n",
    "\n",
    "#檢查是否能成為三角形(若兩向量平行，則二階行列式＝0)\n",
    "if (VXab*VYbc)-(VYab*VXbc)==0 or (VXab*VYac)-(VYab*VXac)==0 or (VXbc*VYac)-(VYbc*VXac)==0:\n",
    "    print('無法構成三角形')\n",
    "    \n",
    "#三角形的類別\n",
    "elif (a+c==b) or (c+b==a) or (a+b==c):\n",
    "    print('直角三角形')\n",
    "elif (a+c<b) or (c+b<a) or (a+b<c):\n",
    "    print('鈍角三角形')\n",
    "elif (a+c>b) or (c+b>a) or (a+b>c):\n",
    "    print('銳角三角形')"
   ]
  },
  {
   "cell_type": "code",
   "execution_count": null,
   "metadata": {},
   "outputs": [],
   "source": []
  }
 ],
 "metadata": {
  "kernelspec": {
   "display_name": "Python 3",
   "language": "python",
   "name": "python3"
  },
  "language_info": {
   "codemirror_mode": {
    "name": "ipython",
    "version": 3
   },
   "file_extension": ".py",
   "mimetype": "text/x-python",
   "name": "python",
   "nbconvert_exporter": "python",
   "pygments_lexer": "ipython3",
   "version": "3.7.3"
  }
 },
 "nbformat": 4,
 "nbformat_minor": 2
}
