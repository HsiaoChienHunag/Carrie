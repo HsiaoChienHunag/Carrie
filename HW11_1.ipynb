{
 "cells": [
  {
   "cell_type": "code",
   "execution_count": 160,
   "metadata": {},
   "outputs": [
    {
     "name": "stdout",
     "output_type": "stream",
     "text": [
      "請輸入要查詢的城市：宜蘭縣\n",
      "-------------------------------------------------------------------------------------------------------------------\n",
      "startTime 2019-11-01 18:00:00\n",
      "endTime 2019-11-02 06:00:00\n",
      "parameter 陰時多雲\n",
      "-------------------------------------------------------------------------------------------------------------------\n",
      "startTime 2019-11-02 06:00:00\n",
      "endTime 2019-11-02 18:00:00\n",
      "parameter 多雲\n",
      "-------------------------------------------------------------------------------------------------------------------\n",
      "startTime 2019-11-02 18:00:00\n",
      "endTime 2019-11-03 06:00:00\n",
      "parameter 陰短暫雨\n"
     ]
    }
   ],
   "source": [
    "import json\n",
    "import requests\n",
    "from pprint import pprint\n",
    "url='https://opendata.cwb.gov.tw/api/v1/rest/datastore/F-C0032-001?Authorization=rdec-key-123-45678-011121314'\n",
    "response=requests.get(url)\n",
    "weather=json.loads(response.text)\n",
    "\n",
    "a=input('請輸入要查詢的城市：')\n",
    "for i in range (0,22):\n",
    "    b=weather['records']['location'][i]['locationName']\n",
    "    d=weather['records']['location'][i]['weatherElement'][0]['time'][0]['startTime']\n",
    "    e=weather['records']['location'][i]['weatherElement'][0]['time'][0]['endTime']\n",
    "    f=weather['records']['location'][i]['weatherElement'][0]['time'][0]['parameter']['parameterName']\n",
    "    g=weather['records']['location'][i]['weatherElement'][0]['time'][1]['startTime']\n",
    "    h=weather['records']['location'][i]['weatherElement'][0]['time'][1]['endTime']\n",
    "    c=weather['records']['location'][i]['weatherElement'][0]['time'][1]['parameter']['parameterName']\n",
    "    j=weather['records']['location'][i]['weatherElement'][0]['time'][2]['startTime']\n",
    "    k=weather['records']['location'][i]['weatherElement'][0]['time'][2]['endTime']\n",
    "    l=weather['records']['location'][i]['weatherElement'][0]['time'][2]['parameter']['parameterName']\n",
    "    if a==b:\n",
    "        print('-'*115)\n",
    "        print('startTime',d)\n",
    "        print('endTime',e)\n",
    "        print('parameter',f)\n",
    "        print('-'*115)\n",
    "        print('startTime',g)\n",
    "        print('endTime',h)\n",
    "        print('parameter',c)\n",
    "        print('-'*115)\n",
    "        print('startTime',j)\n",
    "        print('endTime',k)\n",
    "        print('parameter',l)\n",
    "\n",
    "\n",
    "\n",
    "\n",
    "\n",
    "\n",
    "\n",
    "\n",
    "        \n"
   ]
  }
 ],
 "metadata": {
  "kernelspec": {
   "display_name": "Python 3",
   "language": "python",
   "name": "python3"
  },
  "language_info": {
   "codemirror_mode": {
    "name": "ipython",
    "version": 3
   },
   "file_extension": ".py",
   "mimetype": "text/x-python",
   "name": "python",
   "nbconvert_exporter": "python",
   "pygments_lexer": "ipython3",
   "version": "3.7.3"
  }
 },
 "nbformat": 4,
 "nbformat_minor": 2
}
