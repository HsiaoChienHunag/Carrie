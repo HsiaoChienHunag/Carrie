{
 "cells": [
  {
   "cell_type": "code",
   "execution_count": 42,
   "metadata": {},
   "outputs": [
    {
     "name": "stdout",
     "output_type": "stream",
     "text": [
      "請輸入目前所在地:北投區\n",
      "請輸入目的地:信義區\n",
      "此次行車費用為205.0元\n"
     ]
    }
   ],
   "source": [
    "%matplotlib inline\n",
    "import numpy as np\n",
    "import matplotlib.pyplot as plt\n",
    "import pandas as pd\n",
    "import math\n",
    "from ipywidgets import interact\n",
    "\n",
    "\n",
    "current = input('請輸入目前所在地:')\n",
    "destination = input('請輸入目的地:')\n",
    "\n",
    "d = {\"南港區\":\"1\",\"內湖區\":\"2\",\"信義區\":\"2\",\"文山區\":\"2\",\"松山區\":\"3\",\"大安區\":\"3\",\"中山區\":\"4\",\n",
    "     \"中正區\":\"4\",\"士林區\":\"4.5\",\"大同區\":\"5\",\"萬華區\":\"5\",\"北投區\":\"5.5\"}\n",
    "a=float(d[current])\n",
    "b=float(d[destination])\n",
    "\n",
    "if a==b:\n",
    "    print(\"此次行車費用為100元\")\n",
    "else:\n",
    "    c = abs(a-b)*30+100\n",
    "    print(\"此次行車費用為\"+ str(c) +\"元\")\n",
    "    "
   ]
  },
  {
   "cell_type": "code",
   "execution_count": null,
   "metadata": {},
   "outputs": [],
   "source": []
  }
 ],
 "metadata": {
  "kernelspec": {
   "display_name": "Python 3",
   "language": "python",
   "name": "python3"
  },
  "language_info": {
   "codemirror_mode": {
    "name": "ipython",
    "version": 3
   },
   "file_extension": ".py",
   "mimetype": "text/x-python",
   "name": "python",
   "nbconvert_exporter": "python",
   "pygments_lexer": "ipython3",
   "version": "3.7.3"
  }
 },
 "nbformat": 4,
 "nbformat_minor": 2
}
