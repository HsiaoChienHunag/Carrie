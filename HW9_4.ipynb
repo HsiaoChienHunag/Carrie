{
 "cells": [
  {
   "cell_type": "code",
   "execution_count": 5,
   "metadata": {},
   "outputs": [
    {
     "data": {
      "application/vnd.jupyter.widget-view+json": {
       "model_id": "5b3def848a9a46aeafae712e6da2d51d",
       "version_major": 2,
       "version_minor": 0
      },
      "text/plain": [
       "Dropdown(description='height:', options=(160, 161, 162, 163, 165), value=160)"
      ]
     },
     "metadata": {},
     "output_type": "display_data"
    },
    {
     "data": {
      "application/vnd.jupyter.widget-view+json": {
       "model_id": "b3faea57f6db48ceb63d0d2cb94a1dba",
       "version_major": 2,
       "version_minor": 0
      },
      "text/plain": [
       "Dropdown(description='weight:', options=(50, 51, 52, 53, 54), value=50)"
      ]
     },
     "metadata": {},
     "output_type": "display_data"
    }
   ],
   "source": [
    "%matplotlib inline\n",
    "\n",
    "import numpy as np\n",
    "import pandas as pd\n",
    "import matplotlib.pyplot as plt\n",
    "import ipywidgets as widgets\n",
    "\n",
    "spam = widgets.Dropdown(\n",
    "    options=[160,161,162,163,165],\n",
    "    description='height:',\n",
    "    disabled=False,\n",
    ")\n",
    "display(spam)\n",
    "\n",
    "\n",
    "ham = widgets.Dropdown(\n",
    "    options=[50,51,52,53,54],\n",
    "    description='weight:',\n",
    "    disabled=False,\n",
    ")\n",
    "\n",
    "display(ham)"
   ]
  },
  {
   "cell_type": "code",
   "execution_count": 7,
   "metadata": {},
   "outputs": [
    {
     "name": "stdout",
     "output_type": "stream",
     "text": [
      "\u001b[4;34;40mBMI:19.53\n",
      "\u001b[4;34;40m棒棒棒！穠纖合度！\n"
     ]
    }
   ],
   "source": [
    "height = float(spam.value)\n",
    "weight = float(ham.value)\n",
    "\n",
    "\n",
    "bmi = weight/((height/100)**2)\n",
    "\n",
    "#print(\"\\033[4;31;40mBMI:%.2f\"%(bmi))\n",
    "\n",
    "if bmi < 18.5:\n",
    "    print(\"\\033[4;31;40mBMI:%.2f\"%(bmi))\n",
    "    print(\"\\033[4;31;40m過輕囉！多吃點飯！\")\n",
    "elif 18.5 <= bmi <24:\n",
    "    print(\"\\033[4;34;40mBMI:%.2f\"%(bmi))\n",
    "    print(\"\\033[4;34;40m棒棒棒！穠纖合度！\")\n",
    "else:\n",
    "    print(\"\\033[4;31;40mBMI:%.2f\"%(bmi))\n",
    "    print(\"\\033[4;31;40m過重囉！注意飲食！多運動！\")"
   ]
  },
  {
   "cell_type": "code",
   "execution_count": null,
   "metadata": {},
   "outputs": [],
   "source": []
  }
 ],
 "metadata": {
  "kernelspec": {
   "display_name": "Python 3",
   "language": "python",
   "name": "python3"
  }
 },
 "nbformat": 4,
 "nbformat_minor": 2
}
