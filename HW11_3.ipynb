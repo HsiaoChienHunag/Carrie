{
 "cells": [
  {
   "cell_type": "code",
   "execution_count": 1,
   "metadata": {},
   "outputs": [
    {
     "name": "stdout",
     "output_type": "stream",
     "text": [
      "please input your hand：i1 i10 i11 i13 i12\n",
      "Straight Flush\n",
      "please input your hand：0\n"
     ]
    }
   ],
   "source": [
    "while True:\n",
    "    a=input('please input your hand：').split()\n",
    "    suit=[]\n",
    "    num = []\n",
    "    if a[0] == '0':\n",
    "        break\n",
    "    for i in a:\n",
    "        i=i[0]\n",
    "        suit.append(i)\n",
    "    for j in a:\n",
    "        j=j[1:]\n",
    "        num.append(j)\n",
    "        num = sorted(int(i) for i in num)\n",
    "    if (int(num[0])+4==int(num[4]) or (int(num[0])==1 and int(num[1])==10))and (len(set(num))==5 and len(set(suit)))==1 :\n",
    "        print('Straight Flush')\n",
    "    elif int(num[1])==int(num[2])==int(num[3]) and len(set(num))==2 :\n",
    "        print('Four of a Kind')\n",
    "    elif (int(num[0])!=int(num[2]) or int(num[2])!=int(num[4])) and (len(set(num)))==2 :\n",
    "        print('Full House')\n",
    "    elif len(set(suit))==1 :\n",
    "        print('Flush')\n",
    "    elif (int(num[0])+4==int(num[4]) or (int(num[0])==1 and int(num[1])==10)) and len(set(suit))!=1 and len(set(num))==5 :\n",
    "        print('Straight')\n",
    "    elif (int(num[1])==int(num[2])==int(num[3]) or int(num[0])==int(num[1])==int(num[2]) or int(num[2])==int(num[3])==int(num[4])) and len(set(num))==3 :\n",
    "        print('Three of a Kind')\n",
    "    elif len(set(num))==3 :\n",
    "        print('Two Pairs')\n",
    "    elif len(set(num))==4 :\n",
    "        print('One Pair')\n",
    "    else :\n",
    "        print('High Card')"
   ]
  },
  {
   "cell_type": "code",
   "execution_count": null,
   "metadata": {},
   "outputs": [],
   "source": []
  }
 ],
 "metadata": {
  "kernelspec": {
   "display_name": "Python 3",
   "language": "python",
   "name": "python3"
  },
  "language_info": {
   "codemirror_mode": {
    "name": "ipython",
    "version": 3
   },
   "file_extension": ".py",
   "mimetype": "text/x-python",
   "name": "python",
   "nbconvert_exporter": "python",
   "pygments_lexer": "ipython3",
   "version": "3.7.3"
  }
 },
 "nbformat": 4,
 "nbformat_minor": 2
}
