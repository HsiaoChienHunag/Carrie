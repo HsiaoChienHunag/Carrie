{
 "cells": [
  {
   "cell_type": "code",
   "execution_count": 47,
   "metadata": {},
   "outputs": [
    {
     "data": {
      "application/vnd.jupyter.widget-view+json": {
       "model_id": "3de27ef720544049a1bc604789ae90b5",
       "version_major": 2,
       "version_minor": 0
      },
      "text/plain": [
       "Dropdown(description='Event:', options=('已經交往', '已經誕生', '已經上大學', '已經沒人陪', '已經畢業', '已經被社會摧殘'), value='已經交往')"
      ]
     },
     "metadata": {},
     "output_type": "display_data"
    },
    {
     "data": {
      "application/vnd.jupyter.widget-view+json": {
       "model_id": "f6ac22ce71a6461799024fb41ce7e32b",
       "version_major": 2,
       "version_minor": 0
      },
      "text/plain": [
       "Dropdown(description='Year:', index=32, options=('1980', '1981', '1982', '1983', '1984', '1985', '1986', '1987…"
      ]
     },
     "metadata": {},
     "output_type": "display_data"
    },
    {
     "data": {
      "application/vnd.jupyter.widget-view+json": {
       "model_id": "f5f1f59385654b5ab715b975f86acd22",
       "version_major": 2,
       "version_minor": 0
      },
      "text/plain": [
       "Dropdown(description='Month:', options=('1', '2', '3', '4', '5', '6', '7', '8', '9', '10', '11', '12'), value=…"
      ]
     },
     "metadata": {},
     "output_type": "display_data"
    },
    {
     "data": {
      "application/vnd.jupyter.widget-view+json": {
       "model_id": "3d005a15087a49e6bc4f25def47e15cc",
       "version_major": 2,
       "version_minor": 0
      },
      "text/plain": [
       "Dropdown(description='Date:', options=('1', '2', '3', '4', '5', '6', '7', '8', '9', '10', '11', '12', '13', '1…"
      ]
     },
     "metadata": {},
     "output_type": "display_data"
    }
   ],
   "source": [
    "from time import strftime\n",
    "from datetime import datetime, timedelta\n",
    "from ipywidgets import interact\n",
    "import ipywidgets as widgets\n",
    "\n",
    "datetime.now().strftime('%Y-%m-%d') #another way\n",
    "now = datetime.now()\n",
    "\n",
    "\n",
    "\n",
    "egg = widgets.Dropdown(\n",
    "    options=[\"已經交往\",\"已經誕生\",\"已經上大學\",\"已經沒人陪\",\"已經畢業\",\"已經被社會摧殘\"],\n",
    "    value=\"已經交往\",\n",
    "    description='Event:',\n",
    "    disabled=False,\n",
    ")\n",
    "\n",
    "display(egg)\n",
    "\n",
    "spam = widgets.Dropdown(\n",
    "    options=[\"1980\", \"1981\", \"1982\", \"1983\", \"1984\", \"1985\", \"1986\", \"1987\", \"1988\", \"1989\", \"1990\", \"1991\", \"1992\", \"1993\", \"1994\", \"1995\", \"1996\", \"1997\", \"1998\", \"1999\", \"2000\", \"2001\", \"2002\", \"2003\", \"2004\", \"2005\", \"2006\", \"2007\", \"2008\", \"2009\", \"2010\", \"2011\", \"2012\", \"2013\", \"2014\", \"2015\", \"2016\", \"2017\", \"2018\", \"2019\"],\n",
    "    value='2012',\n",
    "    description='Year:',\n",
    "    disabled=False,\n",
    ")\n",
    "display(spam)\n",
    "\n",
    "ham = widgets.Dropdown(\n",
    "    options=[\"1\",\"2\",\"3\",\"4\",\"5\",\"6\",\"7\",\"8\",\"9\",\"10\",\"11\",\"12\"],\n",
    "    value='1',\n",
    "    description='Month:',\n",
    "    disabled=False,\n",
    ")\n",
    "\n",
    "display(ham)\n",
    "\n",
    "  \n",
    "milk = widgets.Dropdown(\n",
    "    options=[\"1\",\"2\",\"3\",\"4\",\"5\",\"6\",\"7\",\"8\",\"9\",\"10\",\"11\",\"12\",\"13\",\"14\",\"15\",\"16\",\"17\",\"18\",\"19\",\"20\",\"21\",\"22\",\"23\",\"24\",\"25\",\"26\",\"27\",\"28\",\"29\",\"30\",\"31\"],\n",
    "    value='1',\n",
    "    description='Date:',\n",
    "    disabled=False,\n",
    ")\n",
    "\n",
    "display(milk)"
   ]
  },
  {
   "cell_type": "code",
   "execution_count": 48,
   "metadata": {},
   "outputs": [
    {
     "name": "stdout",
     "output_type": "stream",
     "text": [
      "(๑´ㅁ`)：已經誕生 7885 天\n"
     ]
    }
   ],
   "source": [
    "year = int(spam.value)\n",
    "month = int(ham.value)\n",
    "date = int(milk.value)\n",
    "event = datetime(year, month, date, 0, 0, 0, 0)\n",
    "dst = now - event\n",
    "strDst = str(dst)\n",
    "length = int(len(strDst))\n",
    "index = int(strDst.find(\"d\"))\n",
    "DAY = strDst.replace(strDst[index: length], '')\n",
    "print(\"(๑´ㅁ`)：\"+ egg.value + \" \"+ DAY + \"天\")"
   ]
  },
  {
   "cell_type": "code",
   "execution_count": 32,
   "metadata": {},
   "outputs": [
    {
     "name": "stdout",
     "output_type": "stream",
     "text": [
      "idea comes from 105307024 財管四 王憶沁\n"
     ]
    }
   ],
   "source": [
    "print(\"idea comes from 105307024 財管四 王憶沁\")"
   ]
  },
  {
   "cell_type": "code",
   "execution_count": 46,
   "metadata": {},
   "outputs": [
    {
     "name": "stdout",
     "output_type": "stream",
     "text": [
      "\"1980\", \"1981\", \"1982\", \"1983\", \"1984\", \"1985\", \"1986\", \"1987\", \"1988\", \"1989\", \"1990\", \"1991\", \"1992\", \"1993\", \"1994\", \"1995\", \"1996\", \"1997\", \"1998\", \"1999\", \"2000\", \"2001\", \"2002\", \"2003\", \"2004\", \"2005\", \"2006\", \"2007\", \"2008\", \"2009\", \"2010\", \"2011\", \"2012\", \"2013\", \"2014\", \"2015\", \"2016\", \"2017\", \"2018\", \"2019\", "
     ]
    }
   ],
   "source": [
    "a = range(1980, 2020, 1)\n",
    "for i in a:\n",
    "    print('\\\"' + str(i) + '\\\", ', end=\"\")"
   ]
  },
  {
   "cell_type": "code",
   "execution_count": null,
   "metadata": {},
   "outputs": [],
   "source": []
  }
 ],
 "metadata": {
  "kernelspec": {
   "display_name": "Python 3",
   "language": "python",
   "name": "python3"
  },
  "language_info": {
   "codemirror_mode": {
    "name": "ipython",
    "version": 3
   },
   "file_extension": ".py",
   "mimetype": "text/x-python",
   "name": "python",
   "nbconvert_exporter": "python",
   "pygments_lexer": "ipython3",
   "version": "3.7.3"
  }
 },
 "nbformat": 4,
 "nbformat_minor": 2
}
