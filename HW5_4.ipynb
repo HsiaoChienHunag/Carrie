{
 "cells": [
  {
   "cell_type": "code",
   "execution_count": null,
   "metadata": {},
   "outputs": [
    {
     "name": "stdout",
     "output_type": "stream",
     "text": [
      "請輸入你的鞋子日碼:29\n",
      "不好意思我們沒有計算到那麼大的腳ㄚ!請您移至這個網站查詢!\n",
      "請輸入你的鞋子日碼:25.6\n",
      "請輸入正確日碼喔!如:23.5!\n",
      "請輸入你的鞋子日碼:26.67\n",
      "請輸入正確日碼喔!如:23.5!\n"
     ]
    }
   ],
   "source": [
    "import sys\n",
    "import webbrowser\n",
    "\n",
    "\n",
    "url = 'https://www.abc-mart.com.tw/views/size-guide.php'\n",
    "\n",
    "while(True):\n",
    "    size = input(\"請輸入你的鞋子日碼:\")\n",
    "    size_float = float(size)\n",
    "    size_length = len(str(size))\n",
    "    size_dic = {'22.5':'35', '23.0':'36','23.5':'37','24.0':'38','24.5':'39','25.0':'40'}\n",
    "    if size_length==4 and size_float%0.5 == 0 and size_float >= 22.5 and size_float <= 25:\n",
    "        print(\"您的鞋子日碼換算成歐碼為:\"+str(size_dic['{}'.format(size_float)]))\n",
    "    elif size_length==2 and size_float > 22 and size_float < 26:\n",
    "        print(\"您的鞋子日碼換算成歐碼為:\"+str(size_dic['{}'.format(size_float)]))\n",
    "    elif size_length==4 and size_float%0.5 == 0 and size_float < 22.5:\n",
    "        print(\"不好意思我們沒有計算到那麼小的腳ㄚ!請您移至這個網站查詢!\")\n",
    "        webbrowser.open(url)\n",
    "    elif size_length==4 and size_float%0.5 == 0 and size_float > 25:\n",
    "        print(\"不好意思我們沒有計算到那麼大的腳ㄚ!請您移至這個網站查詢!\")\n",
    "        webbrowser.open(url)\n",
    "    elif size_length==2 and size_float%0.5 == 0 and size_float < 22.5:\n",
    "        print(\"不好意思我們沒有計算到那麼小的腳ㄚ!請您移至這個網站查詢!\")\n",
    "        webbrowser.open(url)\n",
    "    elif size_length==2 and size_float%0.5 == 0 and size_float > 25:\n",
    "        print(\"不好意思我們沒有計算到那麼大的腳ㄚ!請您移至這個網站查詢!\")\n",
    "        webbrowser.open(url)\n",
    "    else:\n",
    "        print(\"請輸入正確日碼喔!以半碼為基準喔!\")"
   ]
  },
  {
   "cell_type": "code",
   "execution_count": 22,
   "metadata": {},
   "outputs": [
    {
     "data": {
      "text/plain": [
       "0"
      ]
     },
     "execution_count": 22,
     "metadata": {},
     "output_type": "execute_result"
    }
   ],
   "source": [
    "info = 'abca'\n",
    "info.find('a')"
   ]
  },
  {
   "cell_type": "code",
   "execution_count": 14,
   "metadata": {},
   "outputs": [
    {
     "ename": "SyntaxError",
     "evalue": "unexpected EOF while parsing (<ipython-input-14-98f1c97ceddc>, line 6)",
     "output_type": "error",
     "traceback": [
      "\u001b[0;36m  File \u001b[0;32m\"<ipython-input-14-98f1c97ceddc>\"\u001b[0;36m, line \u001b[0;32m6\u001b[0m\n\u001b[0;31m    print(str(size_dic['{}'.format(size_float)])\u001b[0m\n\u001b[0m                                                ^\u001b[0m\n\u001b[0;31mSyntaxError\u001b[0m\u001b[0;31m:\u001b[0m unexpected EOF while parsing\n"
     ]
    }
   ],
   "source": [
    "size = input(\"請輸入你的鞋子日碼:\")\n",
    "size_float = float(size)\n",
    "size_length = len(str(size))\n",
    "size_dic = {()'22.5',35, '23',36, '23.5',37, '24',38, '24.5',39, '25',40}\n",
    "if size_length<=4 or size_float%5 == 0:\n",
    "    print(str(size_dic['{}'.format(size_float)])"
   ]
  },
  {
   "cell_type": "code",
   "execution_count": null,
   "metadata": {},
   "outputs": [],
   "source": []
  }
 ],
 "metadata": {
  "kernelspec": {
   "display_name": "Python 3",
   "language": "python",
   "name": "python3"
  },
  "language_info": {
   "codemirror_mode": {
    "name": "ipython",
    "version": 3
   },
   "file_extension": ".py",
   "mimetype": "text/x-python",
   "name": "python",
   "nbconvert_exporter": "python",
   "pygments_lexer": "ipython3",
   "version": "3.7.3"
  }
 },
 "nbformat": 4,
 "nbformat_minor": 2
}
