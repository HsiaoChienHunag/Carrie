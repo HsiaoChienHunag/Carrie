{
 "cells": [
  {
   "cell_type": "code",
   "execution_count": 15,
   "metadata": {},
   "outputs": [
    {
     "data": {
      "application/vnd.jupyter.widget-view+json": {
       "model_id": "e6ef52b10ca94bb5ad442f0e22d9d3cc",
       "version_major": 2,
       "version_minor": 0
      },
      "text/plain": [
       "Dropdown(description='Country:', options=(('東京', 9), ('台北', 8), ('紐約', -5), ('倫敦', 0), ('巴黎', 1), ('香港', 8), (…"
      ]
     },
     "metadata": {},
     "output_type": "display_data"
    }
   ],
   "source": [
    "import ipywidgets as widgets\n",
    "from datetime import datetime\n",
    "from datetime import timedelta\n",
    "from datetime import timezone\n",
    "spam = widgets.Dropdown(\n",
    "    options=[('東京',9), ('台北',8), ('紐約',-5),('倫敦',0),('巴黎',1),('香港',8),('柏林',1)],\n",
    "    description='Country:',\n",
    "    disabled=False,\n",
    ")\n",
    "display(spam)"
   ]
  },
  {
   "cell_type": "code",
   "execution_count": 42,
   "metadata": {},
   "outputs": [
    {
     "name": "stdout",
     "output_type": "stream",
     "text": [
      "現在東京時間為: 2019-10-15 12:48:12\n"
     ]
    }
   ],
   "source": [
    "from datetime import datetime\n",
    "from datetime import timedelta\n",
    "from datetime import timezone\n",
    "\n",
    "country_dic = {'9':'東京', '8':'台北', '-5':'紐約','0':'倫敦','1':'巴黎','8':'香港','1':'柏林'}\n",
    "utc_dt = datetime.utcnow().replace(tzinfo=timezone.utc)\n",
    "#country=int(spam.value)\n",
    "#pri\n",
    "tw_dt = utc_dt.astimezone(timezone(timedelta(hours=spam.value)))\n",
    "str_tw = str(tw_dt)\n",
    "length = int(len(str_tw))\n",
    "index = int(str_tw.find(\".\"))\n",
    "DAY = str_tw.replace(str_tw[index: length], '')\n",
    "print(\"現在\"+str(country_dic[\"{}\".format(spam.value)])+\"時間為: \"+DAY)"
   ]
  },
  {
   "cell_type": "code",
   "execution_count": null,
   "metadata": {},
   "outputs": [],
   "source": []
  },
  {
   "cell_type": "markdown",
   "metadata": {},
   "source": [
    "###>>>info = 'abca'\n",
    "#>>> print info.find('a'): 从下标0开始，查找在字符串里第一个出现的子串，返回结果：0\n",
    "#>>> print info.find('a',1): 从下标1开始，查找在字符串里第一个出现的子串：返回结果3\n",
    "#>>> print info.find('3'): 查找不到返回-1"
   ]
  },
  {
   "cell_type": "markdown",
   "metadata": {},
   "source": [
    "#str.replace(old, new[, max])\n",
    "#old -- 将被替换的子字符串。\n",
    "#new -- 新字符串，用于替换old子字符串。\n",
    "#max -- 可选字符串, 替换不超过 max 次"
   ]
  },
  {
   "cell_type": "code",
   "execution_count": null,
   "metadata": {},
   "outputs": [],
   "source": []
  }
 ],
 "metadata": {
  "kernelspec": {
   "display_name": "Python 3",
   "language": "python",
   "name": "python3"
  },
  "language_info": {
   "codemirror_mode": {
    "name": "ipython",
    "version": 3
   },
   "file_extension": ".py",
   "mimetype": "text/x-python",
   "name": "python",
   "nbconvert_exporter": "python",
   "pygments_lexer": "ipython3",
   "version": "3.7.3"
  }
 },
 "nbformat": 4,
 "nbformat_minor": 2
}
