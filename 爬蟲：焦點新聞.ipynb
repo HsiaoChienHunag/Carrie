{
 "cells": [
  {
   "cell_type": "code",
   "execution_count": 2,
   "metadata": {},
   "outputs": [
    {
     "name": "stdout",
     "output_type": "stream",
     "text": [
      "標題：台大教授：我被政府查水表了\n",
      "網址：http://twyahoo.comhttps://tw.news.yahoo.com/%E6%94%BF%E5%BA%9C%E6%94%BF%E7%AD%96%E4%B8%8D%E8%83%BD%E6%89%B9%E5%8F%B0%E5%A4%A7%E6%95%99%E6%8E%88%E8%87%AA%E7%88%86%E8%A2%AB%E6%9F%A5%E6%B0%B4%E8%A1%A8-%E5%98%86%E5%A4%B1%E8%A8%80%E8%AB%96%E8%87%AA%E7%94%B1-015848947.html\n",
      "標題：謝龍介曝關鍵3區 藍有機會翻轉\n",
      "網址：http://twyahoo.comhttps://tw.news.yahoo.com/%E7%A0%B4%E5%BA%9C%E5%9F%8E%E9%98%B2%E7%B7%9A2-%E6%8E%80%E7%88%86%E8%A5%BF%E7%93%9C%E6%95%88%E6%87%89-%E9%97%9C%E9%8D%B5%E5%B0%B1%E5%9C%A8-%E9%80%99%E4%B8%89%E5%8D%80-183833690.html\n",
      "標題：首例！法官跳槽會計師事務所\n",
      "網址：http://twyahoo.comhttps://tw.news.yahoo.com/%E7%8D%B5%E6%AE%BA%E5%8F%B0%E7%A9%8D%E9%9B%BB%E5%8F%9B%E5%B0%87%E7%9A%84%E6%B3%95%E5%AE%98%E7%82%BA%E4%BD%95%E8%BD%89%E6%88%B0%E6%9C%83%E8%A8%88%E5%B8%AB%E4%BA%8B%E5%8B%99%E6%89%80-045020793.html\n",
      "標題：一旦歸零「1200億恐全泡湯」\n",
      "網址：http://twyahoo.comhttps://tw.news.yahoo.com/%E9%99%B8%E5%AE%A2%E6%B5%81%E5%A4%B1-%E5%8F%B0%E8%A7%80%E5%85%89%E5%A4%96%E5%8C%AF%E5%B9%B4%E6%B8%9B%E5%8D%83%E5%84%84-215008223--finance.html\n",
      "標題：那一年的林飛帆到那裡去了？\n",
      "網址：http://twyahoo.comhttps://news.campaign.yahoo.com.tw/2020election/article.php?u=51747fec-337d-3116-b0b6-3243bc48d17e#1231\n",
      "標題：推倒金童罰比較貴？NBA解釋了\n",
      "網址：http://twyahoo.comhttps://tw.news.yahoo.com/nba-%E6%8E%A8%E9%87%91%E7%AB%A5%E7%BD%B0%E6%AF%94%E8%BC%83%E8%B2%B4-%E8%81%AF%E7%9B%9F%E8%A7%A3%E9%87%8B%E4%BA%86-032033651.html\n",
      "標題：古德溫飆新高 老鷹終止10連敗\n",
      "網址：http://twyahoo.comhttps://tw.news.yahoo.com/%E8%80%81%E9%B7%B9%E6%A5%8A%E6%81%A9%E7%BC%BA%E9%99%A3-%E5%8F%A4%E5%BE%B7%E6%BA%AB%E7%94%9F%E6%B6%AF%E6%96%B0%E9%AB%9821%E5%88%86%E7%8E%87%E9%9A%8A%E6%8B%86%E7%A9%BF%E9%AD%94%E8%A1%93-063637495.html\n",
      "標題：子承父業？玫瑰兒子「手很癢」\n",
      "網址：http://twyahoo.comhttps://tw.sports.yahoo.com/news/nba-%E5%87%8D%E6%9C%AA%E6%A2%9D-%E4%B8%8D%E5%B8%8C%E6%9C%9B%E5%85%92%E5%AD%90%E8%B5%B0%E7%B1%83%E7%90%83%E8%B7%AF-%E9%A3%86%E9%A2%A8%E7%8E%AB%E7%91%B0-%E4%BD%86%E4%BB%96%E6%89%8B%E7%99%A2-061643495.html\n",
      "標題：主場慘遭逆轉 拓荒者跌出老八\n",
      "網址：http://twyahoo.comhttps://tw.sports.yahoo.com/news/nba-%E9%9B%99%E6%A7%8D%E5%B0%8D%E9%A3%86-%E5%A4%AA%E9%99%BD%E9%80%81%E6%8B%93%E8%8D%924%E9%80%A3%E6%95%97-071534195.html \n",
      "標題：三層肉掰掰 簡單瑜伽助瘦小腹\n",
      "網址：http://twyahoo.comhttps://tw.sports.yahoo.com/news/%E7%98%A6%E5%B0%8F%E8%85%B9%E7%91%9C%E4%BC%BD%E7%B7%B4%E7%BF%92-%E4%B8%89%E5%B1%A4%E8%82%89%E6%8E%B0%E6%8E%B0-160000877.html \n",
      "標題：憔悴露面 追我吧主持近況曝光\n",
      "網址：http://twyahoo.comhttps://tw.news.yahoo.com/%E7%9B%AE%E7%9D%B9%E9%AB%98%E4%BB%A5%E7%BF%94%E9%9B%A2%E4%B8%96-%E4%B8%BB%E6%8C%81%E4%BA%BA%E4%B8%8D%E5%A0%AA%E8%BF%91%E6%B3%81%E6%9B%9D%E5%85%89-073503415.html\n",
      "標題：跨年場竟不倒數？Jolin粉絲崩潰\n",
      "網址：http://twyahoo.comhttps://tw.news.yahoo.com/%E8%94%A1%E4%BE%9D%E6%9E%97%E8%B7%A8%E5%B9%B4%E5%A0%B4%E6%8A%95%E9%9C%87%E6%92%BC%E5%BD%88%E9%81%8E%E4%B8%80%E6%AC%A1%E6%B2%92%E6%9C%89%E5%80%92%E6%95%B8%E7%9A%84-%E9%90%B5%E7%B2%89%E5%B4%A9%E6%BD%B0%E4%BA%86-062119284.html\n",
      "標題：童星逞凶奪命！一審遭判15年\n",
      "網址：http://twyahoo.comhttps://tw.news.yahoo.com/%E6%B5%B7%E8%B1%9A%E7%81%A3%E6%88%80%E4%BA%BA-%E7%AB%A5%E6%98%9F%E6%B6%89%E6%AE%BA%E4%BA%BA%E7%BD%AA-%E5%AF%A9%E5%88%A4%E6%B1%BA15%E5%B9%B4%E5%BE%92%E5%88%91-060640441.html\n",
      "標題：柴克消失32天 爆染怪病險喪命\n",
      "網址：http://twyahoo.comhttps://movies.yahoo.com.tw/article/%E6%9F%B4%E5%85%8B%E8%89%BE%E5%BC%97%E9%9A%86%E6%9F%93%E6%80%AA%E7%97%85%E9%9A%AA%E5%96%AA%E5%91%BD%E6%B6%88%E5%A4%B132%E5%A4%A9%E7%A7%81%E4%BA%BA%E9%A3%9B%E6%A9%9F%E6%80%A5%E9%80%81%E6%BE%B3%E6%B4%B2%E5%B0%B1%E9%86%AB-092802213.html\n",
      "標題：「別拍漫威」黑粉導演再出招\n",
      "網址：http://twyahoo.comhttps://movies.yahoo.com.tw/article/%E9%BB%91%E7%B2%89%E5%B0%8E%E6%BC%94%E5%86%8D%E5%87%BA%E6%8B%9B-%E5%8A%9B%E5%8B%B8-%E4%BB%96-%E5%88%A5%E6%8B%8D%E6%BC%AB%E5%A8%81-095502439.html\n",
      "標題：「姓」太怪遭問4次 po證件崩潰\n",
      "網址：http://twyahoo.comhttps://tw.news.yahoo.com/%E8%A8%82%E4%BD%8D%E8%A2%AB%E5%BA%97%E5%93%A1%E6%B0%A3%E7%82%B8-%E5%A6%B9%E5%AD%90%E7%8B%82%E6%8F%9B4%E7%A8%AE%E5%A7%93%E6%B0%8F%E8%A7%A3%E9%87%8B%E5%B4%A9%E6%BD%B0-083300950.html\n",
      "標題：年薪260萬不辦婚宴 理由網戰翻\n",
      "網址：http://twyahoo.comhttps://tw.news.yahoo.com/%E6%96%B0%E4%BA%BA%E5%B9%B4%E8%96%AA%E7%99%BE%E8%90%AC%E5%8D%BB%E4%B8%8D%E8%BE%A6%E5%A9%9A%E5%AE%B4-%E7%90%86%E7%94%B1%E7%B6%B2%E6%88%B0%E7%BF%BB-093020941.html\n",
      "標題：父捐血救兒失敗 驗3子DNA嚇慘\n",
      "網址：http://twyahoo.comhttps://tw.news.yahoo.com/%E7%B6%A0%E5%88%B0%E7%99%BC%E4%BA%AE-%E6%85%88%E7%88%B6%E6%AC%B2%E6%8D%90%E8%A1%80%E6%95%91%E9%87%8D%E7%97%85%E5%85%92-%E6%8F%AD-3%E5%AD%90%E9%83%BD%E4%B8%8D%E6%98%AF%E8%A6%AA%E7%94%9F-110827227.html\n",
      "標題：好市多1.6kg這盒滿出來 一口囧\n",
      "網址：http://twyahoo.comhttps://tw.travel.yahoo.com/news/%E8%B6%85%E7%8B%82%E5%B7%A8%E7%84%A1%E9%9C%B8%E8%8D%89%E8%8E%93%E5%8D%A1%E5%A3%AB%E9%81%94%E5%A1%94-%E9%87%8D%E9%81%941-6%E5%85%AC%E6%96%A4-%E6%BB%BF%E6%BB%BF%E6%96%B0%E9%AE%AE%E8%8D%89%E8%8E%93-%E5%80%8B%E5%8F%AA%E8%A6%81499%E5%85%83-000937343.html\n",
      "標題：台千元鈔泡水洗？136年祕辛曝\n",
      "網址：http://twyahoo.comhttps://tw.travel.yahoo.com/news/%E4%BA%AC%E9%83%BD%E5%BE%A1%E9%87%91%E7%A5%9E%E7%A4%BE-%E9%99%90%E5%AE%9A%E7%89%88%E5%BF%85%E8%B2%B7%E7%99%BC%E8%B2%A1%E5%BE%A1%E5%AE%88-%E6%B1%82%E8%B2%A1%E4%B8%8D%E5%88%86%E5%9C%8B%E7%95%8C%E5%87%BA%E5%9C%8B%E6%B4%97%E9%8C%A2%E5%8E%BB-010254409.html\n",
      "標題：昔密婚閃離！阿Sa坦言凍卵原因\n",
      "網址：http://twyahoo.comhttps://bit.ly/2ZD3Kfj\n",
      "標題：豬年忙翻…這星座本周出運了\n",
      "網址：http://twyahoo.comhttps://bit.ly/2QuWTQW\n",
      "標題：10年友卻不交往 只怕分手後…\n",
      "網址：http://twyahoo.comhttps://bit.ly/2QbS0NW\n",
      "標題：漂亮姊姊長腿一件 歐巴凍未條\n",
      "網址：http://twyahoo.comhttps://bit.ly/37ifI0q\n",
      "標題：比跑步好！長庚醫這樣走更甩油\n",
      "網址：http://twyahoo.comhttps://bit.ly/36c4tGL\n",
      "標題：來台低調賣一碗 身價起底驚人\n",
      "網址：http://twyahoo.comhttps://www.litv.tv/vod/show/content.do?content_id=VOD00167114&sponsorName=eWFob28=&autoPlay=1#1231aa\n",
      "標題：票房藏黑箱？老司機：賺外快\n",
      "網址：http://twyahoo.comhttps://tw.tv.yahoo.com/chi77/%E9%9B%BB%E5%BD%B1%E7%A5%A8%E6%88%BF%E7%9A%84%E8%A8%88%E7%AE%97%E7%AB%9F%E7%84%B6%E6%98%AF%E9%BB%91%E7%AE%B1%E4%BD%9C%E6%A5%AD-%E5%B9%95%E5%BE%8C%E9%BB%91%E6%89%8B%E7%A9%B6%E7%AB%9F%E6%98%AF%E8%AA%B0-143519674.html#1231aa\n",
      "標題：小鐘遭砍爆血…辛酸揭圈內黑幕\n",
      "網址：http://twyahoo.comhttps://www.litv.tv/vod/show/content.do?content_id=VOD00166885&sponsorName=eWFob28=&autoPlay=1#1231aa\n",
      "標題：超狂！韓市場這味 年收3桶金\n",
      "網址：http://twyahoo.comhttps://tw.tv.yahoo.com/ycreators/%E5%8F%B0%E5%B9%A3200%E5%85%83%E5%B0%B1%E8%83%BD%E5%90%83%E5%88%B06%E6%A8%A3%E9%9F%93%E5%9C%8B%E7%BE%8E%E9%A3%9F-%E5%A9%86%E5%AA%B3%E5%B8%B6%E8%B7%AF-%E9%A6%96%E7%88%BE%E6%9C%9B%E9%81%A0%E5%B8%82%E5%A0%B4%E5%90%83%E5%88%B0%E9%A3%BD-133124612.html#1231aa\n",
      "標題：日企爆黑幕 錄取竟要繳一年租\n",
      "網址：http://twyahoo.comhttps://tw.tv.yahoo.com/ycreators/%E5%8E%BB%E6%97%A5%E6%9C%AC%E7%B6%93%E7%B4%80%E5%85%AC%E5%8F%B8%E8%A9%A6%E9%8F%A1%E5%90%88%E6%A0%BC-%E5%BE%8C%E7%BA%8C%E7%99%BC%E5%B1%95%E5%8D%BB%E8%AE%93youtuber%E5%82%BB%E7%88%86%E7%9C%BC-151625481.html#1231aa\n"
     ]
    }
   ],
   "source": [
    "import requests\n",
    "from bs4 import BeautifulSoup\n",
    "html = requests.get(\"https://tw.yahoo.com/\")\n",
    "s = BeautifulSoup(html.text, \"html.parser\")\n",
    "v = s.find_all(\"a\", \"story-title\")\n",
    "\n",
    "for s in v:\n",
    "    print(\"標題：\"+s.text)\n",
    "    print(\"網址：\"+\"http://twyahoo.com\"+s.get(\"href\"))"
   ]
  },
  {
   "cell_type": "code",
   "execution_count": null,
   "metadata": {},
   "outputs": [],
   "source": []
  }
 ],
 "metadata": {
  "kernelspec": {
   "display_name": "Python 3",
   "language": "python",
   "name": "python3"
  },
  "language_info": {
   "codemirror_mode": {
    "name": "ipython",
    "version": 3
   },
   "file_extension": ".py",
   "mimetype": "text/x-python",
   "name": "python",
   "nbconvert_exporter": "python",
   "pygments_lexer": "ipython3",
   "version": "3.7.4"
  }
 },
 "nbformat": 4,
 "nbformat_minor": 2
}
