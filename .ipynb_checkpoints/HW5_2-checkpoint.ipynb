{
 "cells": [
  {
   "cell_type": "code",
   "execution_count": 14,
   "metadata": {},
   "outputs": [
    {
     "name": "stdout",
     "output_type": "stream",
     "text": [
      "身高:164\n",
      "體重:55\n",
      "\u001b[4;34;40mBMI:20.45\n",
      "\u001b[4;34;40m棒棒棒！穠纖合度！\n"
     ]
    }
   ],
   "source": [
    "%matplotlib inline\n",
    "\n",
    "import numpy as np\n",
    "import pandas as pd\n",
    "import matplotlib.pyplot as plt\n",
    "\n",
    "height = float(input(\"身高:\"))\n",
    "weight = float(input(\"體重:\"))\n",
    "\n",
    "\n",
    "bmi = weight/((height/100)**2)\n",
    "\n",
    "#print(\"\\033[4;31;40mBMI:%.2f\"%(bmi))\n",
    "\n",
    "if bmi < 18.5:\n",
    "    print(\"\\033[4;31;40mBMI:%.2f\"%(bmi))\n",
    "    print(\"\\033[4;31;40m過輕囉！多吃點飯！\")\n",
    "elif 18.5 <= bmi <24:\n",
    "    print(\"\\033[4;34;40mBMI:%.2f\"%(bmi))\n",
    "    print(\"\\033[4;34;40m棒棒棒！穠纖合度！\")\n",
    "else:\n",
    "    print(\"\\033[4;31;40mBMI:%.2f\"%(bmi))\n",
    "    print(\"\\033[4;31;40m過重囉！注意飲食！多運動！\")"
   ]
  },
  {
   "cell_type": "code",
   "execution_count": null,
   "metadata": {},
   "outputs": [],
   "source": []
  },
  {
   "cell_type": "code",
   "execution_count": null,
   "metadata": {},
   "outputs": [],
   "source": []
  }
 ],
 "metadata": {
  "kernelspec": {
   "display_name": "Python 3",
   "language": "python",
   "name": "python3"
  },
  "language_info": {
   "codemirror_mode": {
    "name": "ipython",
    "version": 3
   },
   "file_extension": ".py",
   "mimetype": "text/x-python",
   "name": "python",
   "nbconvert_exporter": "python",
   "pygments_lexer": "ipython3",
   "version": "3.7.3"
  }
 },
 "nbformat": 4,
 "nbformat_minor": 2
}
