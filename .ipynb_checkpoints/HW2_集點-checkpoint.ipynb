{
 "cells": [
  {
   "cell_type": "code",
   "execution_count": null,
   "metadata": {},
   "outputs": [
    {
     "name": "stdout",
     "output_type": "stream",
     "text": [
      "請輸入顧客名稱：utgg\n",
      "請輸入此次金額：900\n",
      "目前累積0點\n",
      "請輸入顧客名稱：30000\n"
     ]
    }
   ],
   "source": [
    "from ipywidgets import interact\n",
    "member_points = 0\n",
    "\n",
    "def getValue(x):\n",
    "    return x\n",
    "\n",
    "def f(x):\n",
    "    ham = getValue(x)\n",
    "    global member_points\n",
    "    if ham==\"行李箱:20點\":\n",
    "        print(\"兌換前累積\"+str(member_points)+\"點\")\n",
    "        member_points = member_points - 20\n",
    "        print(\"兌換後累積\"+str(member_points)+\"點\")\n",
    "    elif ham==\"保溫瓶:15點\":\n",
    "        print(\"兌換前累積\"+str(member_points)+\"點\")\n",
    "        member_points = member_points - 15\n",
    "        print(\"兌換後累積\"+str(member_points)+\"點\")    \n",
    "    else:\n",
    "        print(\"兌換前累積\"+str(member_points)+\"點\")\n",
    "        member_points = member_points - 10\n",
    "        print(\"兌換後累積\"+str(member_points)+\"點\")\n",
    "        \n",
    "while(True):\n",
    "    name = input(\"請輸入顧客名稱：\")\n",
    "    money = input(\"請輸入此次金額：\")\n",
    "    point = float(money)\n",
    "    point = int(point/1000)\n",
    "    member_points = member_points+point\n",
    "    if member_points>=20:\n",
    "        print(\"點數達到贈送回饋禮標準，請選擇回饋禮\")\n",
    "        interact(f,x={\"行李箱:20點\",\"保溫瓶:15點\",\"行動電源:10點\"})\n",
    "    elif member_points<20 and member_points>=15:\n",
    "        print(\"點數達到贈送回饋禮標準，請選擇回饋禮\")\n",
    "        interact(f,x={\"保溫瓶:15點\",\"行動電源:10點\"})\n",
    "    elif member_points<15 and member_points>=10:\n",
    "        print(\"點數達到贈送回饋禮標準，請選擇回饋禮\")\n",
    "        interact(f,x={\"行動電源:10點\"})\n",
    "    else:\n",
    "        print(\"目前累積\"+str(member_points)+\"點\")\n",
    "    \n",
    "    \n"
   ]
  },
  {
   "cell_type": "code",
   "execution_count": null,
   "metadata": {},
   "outputs": [],
   "source": []
  },
  {
   "cell_type": "code",
   "execution_count": null,
   "metadata": {},
   "outputs": [],
   "source": []
  }
 ],
 "metadata": {
  "kernelspec": {
   "display_name": "Python 3",
   "language": "python",
   "name": "python3"
  },
  "language_info": {
   "codemirror_mode": {
    "name": "ipython",
    "version": 3
   },
   "file_extension": ".py",
   "mimetype": "text/x-python",
   "name": "python",
   "nbconvert_exporter": "python",
   "pygments_lexer": "ipython3",
   "version": "3.7.3"
  }
 },
 "nbformat": 4,
 "nbformat_minor": 2
}
