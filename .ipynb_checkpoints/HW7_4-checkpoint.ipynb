{
 "cells": [
  {
   "cell_type": "code",
   "execution_count": null,
   "metadata": {},
   "outputs": [],
   "source": [
    "%matplotlib inline\n",
    "\n",
    "import numpy as np\n",
    "import matplotlib.pyplot as plt\n",
    "import pandas as pd\n",
    "import sympy as sp\n",
    "import ipywidgets as widgets\n",
    "\n",
    "Q = input(\"請問要開始使用質數判斷器了嗎？(Y/N)\")\n",
    "\n",
    "while Q == \"Y\":\n",
    "    egg = input(\"請輸入想判斷的數值：\")\n",
    "    if len(egg) == 1:\n",
    "        print(sp.isprime(int(egg)))\n",
    "        Q = input(\"請問要開始使用質數判斷器了嗎？(Y/N)\")\n",
    "    else:\n",
    "        print(\"請輸入整數喔！\")\n",
    "        Q = input(\"請問要開始使用質數判斷器了嗎？(Y/N)\")\n",
    "        \n",
    "print(\"感謝您的使用！\")"
   ]
  },
  {
   "cell_type": "code",
   "execution_count": null,
   "metadata": {},
   "outputs": [],
   "source": []
  },
  {
   "cell_type": "code",
   "execution_count": null,
   "metadata": {},
   "outputs": [],
   "source": []
  },
  {
   "cell_type": "code",
   "execution_count": null,
   "metadata": {},
   "outputs": [],
   "source": []
  }
 ],
 "metadata": {
  "kernelspec": {
   "display_name": "Python 3",
   "language": "python",
   "name": "python3"
  },
  "language_info": {
   "codemirror_mode": {
    "name": "ipython",
    "version": 3
   },
   "file_extension": ".py",
   "mimetype": "text/x-python",
   "name": "python",
   "nbconvert_exporter": "python",
   "pygments_lexer": "ipython3",
   "version": "3.7.3"
  }
 },
 "nbformat": 4,
 "nbformat_minor": 2
}
