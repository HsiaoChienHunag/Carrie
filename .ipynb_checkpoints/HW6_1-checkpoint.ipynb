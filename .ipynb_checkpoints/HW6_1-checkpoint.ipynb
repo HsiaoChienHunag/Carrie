{
 "cells": [
  {
   "cell_type": "code",
   "execution_count": 23,
   "metadata": {},
   "outputs": [
    {
     "name": "stdout",
     "output_type": "stream",
     "text": [
      "目前的牌：♠4\n"
     ]
    },
    {
     "data": {
      "application/vnd.jupyter.widget-view+json": {
       "model_id": "9b6b455ca7dd4e1e904991bb4382c27a",
       "version_major": 2,
       "version_minor": 0
      },
      "text/plain": [
       "Dropdown(description='你的牌？', options=(('比較大', 1), ('比較小', 2)), value=1)"
      ]
     },
     "metadata": {},
     "output_type": "display_data"
    }
   ],
   "source": [
    "%matplotlib inline\n",
    "\n",
    "import numpy as np\n",
    "import matplotlib.pyplot as plt\n",
    "import pandas as pd\n",
    "import ipywidgets as widgets\n",
    "\n",
    "class Card:\n",
    "    SUITS = ['♠','♥','♣','♦']\n",
    "    RANKS = ['A', '1', '2', '3', '4', '5', '6', '7', '8', '9', '10', 'J', 'Q', 'K']\n",
    "    \n",
    "    def __init__(self,s,r):\n",
    "        self.suit = s   \n",
    "        self.rank = r \n",
    "        \n",
    "    def __repr__(self):\n",
    "        thecard = self.SUITS[self.suit] + self.RANKS[self.rank]\n",
    "        return thecard\n",
    "        \n",
    "suit01 = np.random.randint(0,3)\n",
    "rank01 = np.random.randint(0,12)\n",
    "suit02 = np.random.randint(0,3)\n",
    "rank02 = np.random.randint(0,12)\n",
    "card01 = Card(suit01,rank01)\n",
    "card02 = Card(suit02,rank02)\n",
    "\n",
    "print(\"目前的牌：\" + str(card01))\n",
    "\n",
    "spam = widgets.Dropdown(\n",
    "    options=[('比較大',1), ('比較小',2),],\n",
    "    description='你的牌？',\n",
    "    disabled=False,\n",
    ")\n",
    "\n",
    "display(spam)\n"
   ]
  },
  {
   "cell_type": "code",
   "execution_count": 26,
   "metadata": {},
   "outputs": [
    {
     "name": "stdout",
     "output_type": "stream",
     "text": [
      "答錯了！你的牌：♠7比較大啦！\n"
     ]
    }
   ],
   "source": [
    "if rank02 > rank01 and spam.value == 1:\n",
    "    print(\"答對了！你的牌：\" + str(card02)+\"真的比較大！\")\n",
    "elif rank02 > rank01 and spam.value == 2:\n",
    "    print(\"答錯了！你的牌：\" + str(card02)+\"比較大啦！\")\n",
    "elif rank02 == rank01 and spam.value == 1:\n",
    "    if suit02 > suit01:\n",
    "        print(\"答對了！你的牌：\" + str(card02)+\"真的比較大！\")\n",
    "    elif suit02 < suit01:\n",
    "        print(\"答錯了！你的牌：\" + str(card02)+\"比較小啦！\")\n",
    "    else:\n",
    "        print(\"平手！你的牌：\" + str(card02)+\"再來一次吧！\")\n",
    "elif rank02 < rank01 and spam.value == 1:\n",
    "    print(\"答錯了！你的牌：\" + str(card02)+\"比較小啦！\")\n",
    "else:\n",
    "    print(\"答對了！你的牌：\" + str(card02)+\"真的比較小！\")"
   ]
  },
  {
   "cell_type": "code",
   "execution_count": null,
   "metadata": {},
   "outputs": [],
   "source": []
  }
 ],
 "metadata": {
  "kernelspec": {
   "display_name": "Python 3",
   "language": "python",
   "name": "python3"
  },
  "language_info": {
   "codemirror_mode": {
    "name": "ipython",
    "version": 3
   },
   "file_extension": ".py",
   "mimetype": "text/x-python",
   "name": "python",
   "nbconvert_exporter": "python",
   "pygments_lexer": "ipython3",
   "version": "3.7.3"
  }
 },
 "nbformat": 4,
 "nbformat_minor": 2
}
