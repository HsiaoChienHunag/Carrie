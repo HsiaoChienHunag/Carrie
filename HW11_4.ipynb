{
 "cells": [
  {
   "cell_type": "code",
   "execution_count": 2,
   "metadata": {},
   "outputs": [
    {
     "name": "stdout",
     "output_type": "stream",
     "text": [
      "Requirement already satisfied: requests in /anaconda3/lib/python3.7/site-packages (2.22.0)\n",
      "Requirement already satisfied: chardet<3.1.0,>=3.0.2 in /anaconda3/lib/python3.7/site-packages (from requests) (3.0.4)\n",
      "Requirement already satisfied: certifi>=2017.4.17 in /anaconda3/lib/python3.7/site-packages (from requests) (2019.6.16)\n",
      "Requirement already satisfied: idna<2.9,>=2.5 in /anaconda3/lib/python3.7/site-packages (from requests) (2.8)\n",
      "Requirement already satisfied: urllib3!=1.25.0,!=1.25.1,<1.26,>=1.21.1 in /anaconda3/lib/python3.7/site-packages (from requests) (1.24.2)\n"
     ]
    }
   ],
   "source": [
    "!pip install requests \n",
    "import requests\n",
    "import webbrowser\n",
    "\n",
    "def openChrome(url):\n",
    "    chromePath = \"/Applications/Google Chrome.app/Contents/MacOS/Google Chrome\"\n",
    "    webbrowser.register('chrome',None,webbrowser.BackgroundBrowser(chromePath))\n",
    "    webbrowser.get('chrome').open(url)\n",
    "    \n",
    "\n",
    "    "
   ]
  },
  {
   "cell_type": "code",
   "execution_count": 3,
   "metadata": {},
   "outputs": [],
   "source": [
    "openChrome('http://data.judicial.gov.tw/rar/201907--(20191019Update).rar')\n",
    "openChrome('http://data.judicial.gov.tw/rar/201908--(20191019Update).rar')"
   ]
  },
  {
   "cell_type": "code",
   "execution_count": 162,
   "metadata": {},
   "outputs": [
    {
     "name": "stdout",
     "output_type": "stream",
     "text": [
      "./2019/公務員懲戒委員會\n",
      "./2019/公務員懲戒委員會\n"
     ]
    }
   ],
   "source": [
    "import json\n",
    "import os\n",
    "import glob \n",
    "\n",
    "path='./2019/'\n",
    "os.mkdir('./2019')\n",
    "x=glob.glob('./2019*/*')\n",
    "for court in x:\n",
    "    place=os.path.basename(court)\n",
    "    print(os.path.join(path,place))\n",
    "    if not os.path.isdir(os.path.join(path,place)):\n",
    "        os.makedirs(os.path.join(path,place))\n",
    "        \n",
    "y=glob.glob('./*/*/*.json')\n",
    "for json_file in y:\n",
    "    movepath=os.path.basename(json_file)\n",
    "    filepath=os.path.dirname(json_file)\n",
    "    path1=filepath.replace('201907','2019')+'/'\n",
    "    path2=filepath.replace('201908','2019')+'/'\n",
    "    with open(json_file)as a:\n",
    "            b=json.load(a)\n",
    "            with open(path1+movepath.replace('.json',\" \")+'.txt','w')as c:\n",
    "                for i , j in b.items():\n",
    "                    if i=='JID':\n",
    "                        i='\\n'+'字號：'\n",
    "                    elif i=='JDATE':\n",
    "                        i='\\n'+'日期：'\n",
    "                    elif i=='JFULL':\n",
    "                        i='\\n'+'內文：'+'\\n'\n",
    "                    elif i=='JTITLE':\n",
    "                        i='\\n'+'判決原由：'\n",
    "                    elif i=='JYEAR' or i=='JNO' or i=='JCASE':\n",
    "                        i=''\n",
    "                    c.write(str(i) + str(j))\n",
    "                    with open(path2+movepath.replace('.json',\" \")+'.txt','w')as d:\n",
    "                        for i , j in b.items():\n",
    "                            if i=='JID':\n",
    "                                i='\\n'+'字號：'\n",
    "                            elif i=='JDATE':\n",
    "                                i='\\n'+'日期：'\n",
    "                            elif i=='JFULL':\n",
    "                                i='\\n'+'內文：'+'\\n'\n",
    "                            elif i=='JTITLE':\n",
    "                                i='\\n'+'判決原由：'\n",
    "                            elif i=='JYEAR' or i=='JNO' or i=='JCASE':\n",
    "                                i=''\n",
    "                            d.write(str(i) + str(j))\n",
    "\n",
    "for i in range(201907,201909):\n",
    "    path3='./' + str(i) +'/*/'\n",
    "    for txt_file in glob.glob( os.path.join(path3, '*.txt') ):\n",
    "        os.remove(txt_file)  "
   ]
  },
  {
   "cell_type": "code",
   "execution_count": null,
   "metadata": {},
   "outputs": [],
   "source": []
  },
  {
   "cell_type": "code",
   "execution_count": null,
   "metadata": {},
   "outputs": [],
   "source": []
  }
 ],
 "metadata": {
  "kernelspec": {
   "display_name": "Python 3",
   "language": "python",
   "name": "python3"
  },
  "language_info": {
   "codemirror_mode": {
    "name": "ipython",
    "version": 3
   },
   "file_extension": ".py",
   "mimetype": "text/x-python",
   "name": "python",
   "nbconvert_exporter": "python",
   "pygments_lexer": "ipython3",
   "version": "3.7.3"
  }
 },
 "nbformat": 4,
 "nbformat_minor": 2
}
